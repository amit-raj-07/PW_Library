{
 "cells": [
  {
   "cell_type": "raw",
   "id": "74479d59-19b3-4538-8d77-c186f98a8f56",
   "metadata": {},
   "source": [
    "-> asarray\n",
    "-> asanyarray - if it is in array or matrix it will return same\n",
    "-> float value can't be run in range()\n",
    "-> arange me float or koi v value arange ho jata h"
   ]
  },
  {
   "cell_type": "code",
   "execution_count": 1,
   "id": "6a75f39f-2841-47a9-b2fa-d95c64e0c83f",
   "metadata": {},
   "outputs": [],
   "source": [
    "import numpy as np\n",
    "arr = np.ones((3,4))"
   ]
  },
  {
   "cell_type": "code",
   "execution_count": 2,
   "id": "96875fd2-81da-4c1c-b986-be8969c374a5",
   "metadata": {},
   "outputs": [
    {
     "data": {
      "text/plain": [
       "array([[1., 1., 1., 1.],\n",
       "       [1., 1., 1., 1.],\n",
       "       [1., 1., 1., 1.]])"
      ]
     },
     "execution_count": 2,
     "metadata": {},
     "output_type": "execute_result"
    }
   ],
   "source": [
    "arr"
   ]
  },
  {
   "cell_type": "code",
   "execution_count": 3,
   "id": "14fbd839-946b-4f35-8841-30480255ca0d",
   "metadata": {},
   "outputs": [
    {
     "data": {
      "text/plain": [
       "array([[6., 6., 6., 6.],\n",
       "       [6., 6., 6., 6.],\n",
       "       [6., 6., 6., 6.]])"
      ]
     },
     "execution_count": 3,
     "metadata": {},
     "output_type": "execute_result"
    }
   ],
   "source": [
    "arr+5"
   ]
  },
  {
   "cell_type": "code",
   "execution_count": 4,
   "id": "a1815f56-b901-45e2-8883-c765f463d3ad",
   "metadata": {},
   "outputs": [
    {
     "data": {
      "text/plain": [
       "array([[5., 5., 5., 5.],\n",
       "       [5., 5., 5., 5.],\n",
       "       [5., 5., 5., 5.]])"
      ]
     },
     "execution_count": 4,
     "metadata": {},
     "output_type": "execute_result"
    }
   ],
   "source": [
    "arr*5"
   ]
  },
  {
   "cell_type": "code",
   "execution_count": 5,
   "id": "2e454760-acde-4878-b627-eb802c893492",
   "metadata": {},
   "outputs": [
    {
     "data": {
      "text/plain": [
       "array([[4617315517961601024, 4617315517961601024, 4617315517961601024,\n",
       "        4617315517961601024],\n",
       "       [4617315517961601024, 4617315517961601024, 4617315517961601024,\n",
       "        4617315517961601024],\n",
       "       [4617315517961601024, 4617315517961601024, 4617315517961601024,\n",
       "        4617315517961601024]])"
      ]
     },
     "execution_count": 5,
     "metadata": {},
     "output_type": "execute_result"
    }
   ],
   "source": [
    "np.empty((3,4), int)  ##Gives array with different value each time"
   ]
  },
  {
   "cell_type": "code",
   "execution_count": 6,
   "id": "90ffe494-1244-4a94-a7e4-9ffac550c04d",
   "metadata": {},
   "outputs": [
    {
     "data": {
      "text/plain": [
       "array([[5., 5., 5., 5.],\n",
       "       [5., 5., 5., 5.],\n",
       "       [5., 5., 5., 5.]])"
      ]
     },
     "execution_count": 6,
     "metadata": {},
     "output_type": "execute_result"
    }
   ],
   "source": [
    "np.empty((3,4)) "
   ]
  },
  {
   "cell_type": "code",
   "execution_count": 7,
   "id": "4d115348-adf3-43f0-be6c-890a489f04e1",
   "metadata": {},
   "outputs": [
    {
     "data": {
      "text/plain": [
       "array([[1., 0., 0.],\n",
       "       [0., 1., 0.],\n",
       "       [0., 0., 1.]])"
      ]
     },
     "execution_count": 7,
     "metadata": {},
     "output_type": "execute_result"
    }
   ],
   "source": [
    "np.eye(3) ##Return a 2-D array with ones on the diagonal and zeros elsewhere.\n",
    "#To calculate Inverse Of a Matrix"
   ]
  },
  {
   "cell_type": "code",
   "execution_count": 8,
   "id": "88a6a159-9298-4f0f-b7da-45e64c8f8a75",
   "metadata": {},
   "outputs": [
    {
     "data": {
      "text/plain": [
       "array([[1, 0, 0],\n",
       "       [0, 1, 0],\n",
       "       [0, 0, 1]])"
      ]
     },
     "execution_count": 8,
     "metadata": {},
     "output_type": "execute_result"
    }
   ],
   "source": [
    "np.eye(3, dtype = int) ##n*n matrix"
   ]
  },
  {
   "cell_type": "code",
   "execution_count": 9,
   "id": "f82887a0-cc15-416a-89d2-96e7ff8f0f80",
   "metadata": {},
   "outputs": [],
   "source": [
    "import pandas as pd"
   ]
  },
  {
   "cell_type": "code",
   "execution_count": 10,
   "id": "f412f252-9045-4e14-9e75-04b91eb78e7a",
   "metadata": {},
   "outputs": [],
   "source": [
    "##dataframe - rows and column"
   ]
  },
  {
   "cell_type": "code",
   "execution_count": 11,
   "id": "c5927bce-5b3b-4fda-b02b-27c3a7e64be7",
   "metadata": {},
   "outputs": [
    {
     "data": {
      "text/html": [
       "<div>\n",
       "<style scoped>\n",
       "    .dataframe tbody tr th:only-of-type {\n",
       "        vertical-align: middle;\n",
       "    }\n",
       "\n",
       "    .dataframe tbody tr th {\n",
       "        vertical-align: top;\n",
       "    }\n",
       "\n",
       "    .dataframe thead th {\n",
       "        text-align: right;\n",
       "    }\n",
       "</style>\n",
       "<table border=\"1\" class=\"dataframe\">\n",
       "  <thead>\n",
       "    <tr style=\"text-align: right;\">\n",
       "      <th></th>\n",
       "      <th>0</th>\n",
       "      <th>1</th>\n",
       "      <th>2</th>\n",
       "      <th>3</th>\n",
       "    </tr>\n",
       "  </thead>\n",
       "  <tbody>\n",
       "    <tr>\n",
       "      <th>0</th>\n",
       "      <td>1.0</td>\n",
       "      <td>1.0</td>\n",
       "      <td>1.0</td>\n",
       "      <td>1.0</td>\n",
       "    </tr>\n",
       "    <tr>\n",
       "      <th>1</th>\n",
       "      <td>1.0</td>\n",
       "      <td>1.0</td>\n",
       "      <td>1.0</td>\n",
       "      <td>1.0</td>\n",
       "    </tr>\n",
       "    <tr>\n",
       "      <th>2</th>\n",
       "      <td>1.0</td>\n",
       "      <td>1.0</td>\n",
       "      <td>1.0</td>\n",
       "      <td>1.0</td>\n",
       "    </tr>\n",
       "  </tbody>\n",
       "</table>\n",
       "</div>"
      ],
      "text/plain": [
       "     0    1    2    3\n",
       "0  1.0  1.0  1.0  1.0\n",
       "1  1.0  1.0  1.0  1.0\n",
       "2  1.0  1.0  1.0  1.0"
      ]
     },
     "execution_count": 11,
     "metadata": {},
     "output_type": "execute_result"
    }
   ],
   "source": [
    "pd.DataFrame(arr)"
   ]
  },
  {
   "cell_type": "code",
   "execution_count": 12,
   "id": "3294b05b-1454-4c58-b3c6-793324fae507",
   "metadata": {},
   "outputs": [
    {
     "data": {
      "text/plain": [
       "7.410642753169549"
      ]
     },
     "execution_count": 12,
     "metadata": {},
     "output_type": "execute_result"
    }
   ],
   "source": [
    "#Extra\n",
    "import random #it is a module in python\n",
    "random.choice((1,2,3,4,5,6)) #give different value while executing again and again\n",
    "random.choice('Amit')\n",
    "\n",
    "random.randrange(1,1000) #gives random value between given range\n",
    "random.random() #random number generated between (0 and 1 excluded) \n",
    "lis = [1,2,3,4,5]\n",
    "random.shuffle(lis)\n",
    "lis\n",
    "random.uniform(7,14) #number in between range uniformly"
   ]
  },
  {
   "cell_type": "code",
   "execution_count": 13,
   "id": "eaea3fd5-d66e-44a2-a105-312bdc3ff7be",
   "metadata": {},
   "outputs": [],
   "source": [
    "#The above samething will be done by Numpy like this"
   ]
  },
  {
   "cell_type": "code",
   "execution_count": 14,
   "id": "45ef6fbe-8c21-47bc-a2f4-66378d956632",
   "metadata": {},
   "outputs": [
    {
     "data": {
      "text/plain": [
       "array([[0.96463074, 0.38818034, 0.87908827],\n",
       "       [0.50747635, 0.65248051, 0.9537874 ]])"
      ]
     },
     "execution_count": 14,
     "metadata": {},
     "output_type": "execute_result"
    }
   ],
   "source": [
    "np.random.rand(2,3)"
   ]
  },
  {
   "cell_type": "code",
   "execution_count": 15,
   "id": "c3f87ee5-1e03-499e-904e-7a75f6da4ef7",
   "metadata": {},
   "outputs": [
    {
     "data": {
      "text/plain": [
       "array([0.10768728])"
      ]
     },
     "execution_count": 15,
     "metadata": {},
     "output_type": "execute_result"
    }
   ],
   "source": [
    "np.random.rand(1)"
   ]
  },
  {
   "cell_type": "code",
   "execution_count": 16,
   "id": "8aeae6a7-512d-4f3a-953e-3fff1afbb675",
   "metadata": {},
   "outputs": [
    {
     "data": {
      "text/plain": [
       "array([[-0.54044441,  0.11934089,  0.94614472],\n",
       "       [ 0.53808777,  0.33820306, -1.95220197]])"
      ]
     },
     "execution_count": 16,
     "metadata": {},
     "output_type": "execute_result"
    }
   ],
   "source": [
    "np.random.randn(2,3)"
   ]
  },
  {
   "cell_type": "code",
   "execution_count": 17,
   "id": "c3948860-b838-41db-bad3-4ac96cc88d1e",
   "metadata": {},
   "outputs": [
    {
     "data": {
      "text/plain": [
       "0.7920554952146943"
      ]
     },
     "execution_count": 17,
     "metadata": {},
     "output_type": "execute_result"
    }
   ],
   "source": [
    "np.random.random_sample()"
   ]
  },
  {
   "cell_type": "code",
   "execution_count": 18,
   "id": "e7983374-f49e-404b-ad42-0c7eeb9517fc",
   "metadata": {},
   "outputs": [
    {
     "data": {
      "text/plain": [
       "array([[1, 3, 1, 3],\n",
       "       [2, 1, 3, 1],\n",
       "       [3, 2, 1, 1]])"
      ]
     },
     "execution_count": 18,
     "metadata": {},
     "output_type": "execute_result"
    }
   ],
   "source": [
    "np.random.randint(1,5, size = (3,4))"
   ]
  },
  {
   "cell_type": "code",
   "execution_count": 19,
   "id": "be7ba981-4b3c-4551-ae5e-d971f18d3c48",
   "metadata": {},
   "outputs": [],
   "source": [
    "arr = np.random.randint(1,5, size = (3,4))"
   ]
  },
  {
   "cell_type": "code",
   "execution_count": 20,
   "id": "5f2bb259-90a8-423e-af9d-1d72ca0ff708",
   "metadata": {},
   "outputs": [
    {
     "data": {
      "text/plain": [
       "array([[2, 4, 4, 4],\n",
       "       [1, 4, 2, 4],\n",
       "       [3, 3, 4, 3]])"
      ]
     },
     "execution_count": 20,
     "metadata": {},
     "output_type": "execute_result"
    }
   ],
   "source": [
    "arr"
   ]
  },
  {
   "cell_type": "code",
   "execution_count": 21,
   "id": "b714279c-0e0b-43e0-be38-b4baca6d81ca",
   "metadata": {},
   "outputs": [
    {
     "data": {
      "text/plain": [
       "12"
      ]
     },
     "execution_count": 21,
     "metadata": {},
     "output_type": "execute_result"
    }
   ],
   "source": [
    "arr.size"
   ]
  },
  {
   "cell_type": "code",
   "execution_count": 22,
   "id": "033570c4-dcf5-4615-a9f3-7b6fc4e89792",
   "metadata": {},
   "outputs": [
    {
     "data": {
      "text/plain": [
       "(3, 4)"
      ]
     },
     "execution_count": 22,
     "metadata": {},
     "output_type": "execute_result"
    }
   ],
   "source": [
    "arr.shape"
   ]
  },
  {
   "cell_type": "code",
   "execution_count": 23,
   "id": "8eeaefe7-6d19-4b12-966a-4ae3d2e11117",
   "metadata": {},
   "outputs": [
    {
     "data": {
      "text/plain": [
       "2"
      ]
     },
     "execution_count": 23,
     "metadata": {},
     "output_type": "execute_result"
    }
   ],
   "source": [
    "arr.ndim"
   ]
  },
  {
   "cell_type": "code",
   "execution_count": 24,
   "id": "00fda91b-3a69-4618-9657-34fb9bfc6594",
   "metadata": {},
   "outputs": [
    {
     "data": {
      "text/plain": [
       "array([[2, 4, 4, 4, 1, 4],\n",
       "       [2, 4, 3, 3, 4, 3]])"
      ]
     },
     "execution_count": 24,
     "metadata": {},
     "output_type": "execute_result"
    }
   ],
   "source": [
    "arr.reshape(2,6)"
   ]
  },
  {
   "cell_type": "code",
   "execution_count": 25,
   "id": "0fd13f9f-763d-407a-b814-ee46a5d2f625",
   "metadata": {},
   "outputs": [
    {
     "data": {
      "text/plain": [
       "array([[2, 4, 4, 4],\n",
       "       [1, 4, 2, 4],\n",
       "       [3, 3, 4, 3]])"
      ]
     },
     "execution_count": 25,
     "metadata": {},
     "output_type": "execute_result"
    }
   ],
   "source": [
    "arr.reshape(3,4)"
   ]
  },
  {
   "cell_type": "code",
   "execution_count": 26,
   "id": "29b00e53-0f33-4eb6-81d4-4b9e15bb4be2",
   "metadata": {},
   "outputs": [
    {
     "data": {
      "text/plain": [
       "array([[2, 4, 4],\n",
       "       [4, 1, 4],\n",
       "       [2, 4, 3],\n",
       "       [3, 4, 3]])"
      ]
     },
     "execution_count": 26,
     "metadata": {},
     "output_type": "execute_result"
    }
   ],
   "source": [
    "arr.reshape(4,-1)"
   ]
  },
  {
   "cell_type": "code",
   "execution_count": 27,
   "id": "1ace8ea9-268f-4b15-9f13-752c6979c180",
   "metadata": {},
   "outputs": [
    {
     "data": {
      "text/plain": [
       "array([[2, 4, 4],\n",
       "       [4, 1, 4],\n",
       "       [2, 4, 3],\n",
       "       [3, 4, 3]])"
      ]
     },
     "execution_count": 27,
     "metadata": {},
     "output_type": "execute_result"
    }
   ],
   "source": [
    "arr.reshape(4,-10000)"
   ]
  },
  {
   "cell_type": "code",
   "execution_count": 28,
   "id": "e310abde-589d-4cc6-8dee-1a05a5444a5b",
   "metadata": {},
   "outputs": [
    {
     "data": {
      "text/plain": [
       "array([[2, 4, 4],\n",
       "       [4, 1, 4],\n",
       "       [2, 4, 3],\n",
       "       [3, 4, 3]])"
      ]
     },
     "execution_count": 28,
     "metadata": {},
     "output_type": "execute_result"
    }
   ],
   "source": [
    "arr.reshape(-1,3)"
   ]
  },
  {
   "cell_type": "code",
   "execution_count": 29,
   "id": "a697ba78-3e04-4733-97aa-684f7f1f6356",
   "metadata": {},
   "outputs": [
    {
     "data": {
      "text/plain": [
       "array([[2, 4, 4, 4],\n",
       "       [1, 4, 2, 4],\n",
       "       [3, 3, 4, 3]])"
      ]
     },
     "execution_count": 29,
     "metadata": {},
     "output_type": "execute_result"
    }
   ],
   "source": [
    "arr.reshape(3,4).base"
   ]
  },
  {
   "cell_type": "code",
   "execution_count": 30,
   "id": "f58ee4e3-abd7-41f4-8a24-4c8a1e030b9c",
   "metadata": {},
   "outputs": [
    {
     "data": {
      "text/plain": [
       "array([[2, 4, 4, 4],\n",
       "       [1, 4, 2, 4],\n",
       "       [3, 3, 4, 3]])"
      ]
     },
     "execution_count": 30,
     "metadata": {},
     "output_type": "execute_result"
    }
   ],
   "source": [
    "arr.reshape(12,1).base"
   ]
  },
  {
   "cell_type": "code",
   "execution_count": 31,
   "id": "836b1e7c-402f-4818-a336-ad42b2be0e55",
   "metadata": {},
   "outputs": [
    {
     "data": {
      "text/plain": [
       "array([[2, 4, 4, 4],\n",
       "       [1, 4, 2, 4],\n",
       "       [3, 3, 4, 3]])"
      ]
     },
     "execution_count": 31,
     "metadata": {},
     "output_type": "execute_result"
    }
   ],
   "source": [
    "arr.reshape(6,2).base"
   ]
  },
  {
   "cell_type": "code",
   "execution_count": 32,
   "id": "1276e569-ccbe-4ac8-adc0-0954f2757d28",
   "metadata": {},
   "outputs": [],
   "source": [
    "##.base gives you original matrix"
   ]
  },
  {
   "cell_type": "code",
   "execution_count": 33,
   "id": "e63ab8cd-1b02-4bf1-bcae-f29b71271bb3",
   "metadata": {},
   "outputs": [
    {
     "data": {
      "text/plain": [
       "array([[2, 4, 4, 4],\n",
       "       [1, 4, 2, 4],\n",
       "       [3, 3, 4, 3]])"
      ]
     },
     "execution_count": 33,
     "metadata": {},
     "output_type": "execute_result"
    }
   ],
   "source": [
    "arr"
   ]
  },
  {
   "cell_type": "code",
   "execution_count": 34,
   "id": "630755e5-f116-450b-a819-23fb9318a8ed",
   "metadata": {},
   "outputs": [
    {
     "data": {
      "text/plain": [
       "array([[[2, 4, 4],\n",
       "        [4, 1, 4]],\n",
       "\n",
       "       [[2, 4, 3],\n",
       "        [3, 4, 3]]])"
      ]
     },
     "execution_count": 34,
     "metadata": {},
     "output_type": "execute_result"
    }
   ],
   "source": [
    "arr.reshape(2,2,3)  # 2, 2 rows, 3 col, 3dimension"
   ]
  },
  {
   "cell_type": "code",
   "execution_count": 35,
   "id": "9d6ffca3-ac2c-420c-900c-7f49214049bc",
   "metadata": {},
   "outputs": [
    {
     "data": {
      "text/plain": [
       "array([[[2],\n",
       "        [4],\n",
       "        [4]],\n",
       "\n",
       "       [[4],\n",
       "        [1],\n",
       "        [4]],\n",
       "\n",
       "       [[2],\n",
       "        [4],\n",
       "        [3]],\n",
       "\n",
       "       [[3],\n",
       "        [4],\n",
       "        [3]]])"
      ]
     },
     "execution_count": 35,
     "metadata": {},
     "output_type": "execute_result"
    }
   ],
   "source": [
    "arr.reshape(4,3,1)"
   ]
  },
  {
   "cell_type": "code",
   "execution_count": 36,
   "id": "6ff3ae22-59c4-4943-b23b-ee1cf2346e06",
   "metadata": {},
   "outputs": [],
   "source": [
    "lis = [1,2,3,4]\n",
    "arr =  np.array(lis)"
   ]
  },
  {
   "cell_type": "code",
   "execution_count": 37,
   "id": "f61b228f-4998-41b9-ac6f-ec8de695960c",
   "metadata": {},
   "outputs": [
    {
     "data": {
      "text/plain": [
       "array([1, 2, 3, 4])"
      ]
     },
     "execution_count": 37,
     "metadata": {},
     "output_type": "execute_result"
    }
   ],
   "source": [
    "arr"
   ]
  },
  {
   "cell_type": "code",
   "execution_count": 38,
   "id": "64bf2ab1-110f-443c-b89b-9903571798c7",
   "metadata": {},
   "outputs": [
    {
     "data": {
      "text/plain": [
       "1"
      ]
     },
     "execution_count": 38,
     "metadata": {},
     "output_type": "execute_result"
    }
   ],
   "source": [
    "arr.ndim"
   ]
  },
  {
   "cell_type": "code",
   "execution_count": 39,
   "id": "1d428b74-4a1f-43f0-ba1e-4b52fc634c62",
   "metadata": {},
   "outputs": [],
   "source": [
    "arr2 = np.array([[2,3], [4,5]])"
   ]
  },
  {
   "cell_type": "code",
   "execution_count": 40,
   "id": "eb65ceef-6964-4ae5-8187-adfe80943c0d",
   "metadata": {},
   "outputs": [
    {
     "data": {
      "text/plain": [
       "array([[2, 3],\n",
       "       [4, 5]])"
      ]
     },
     "execution_count": 40,
     "metadata": {},
     "output_type": "execute_result"
    }
   ],
   "source": [
    "arr2"
   ]
  },
  {
   "cell_type": "code",
   "execution_count": 41,
   "id": "590937a4-f568-466f-ad77-1ad348942f74",
   "metadata": {},
   "outputs": [
    {
     "data": {
      "text/plain": [
       "2"
      ]
     },
     "execution_count": 41,
     "metadata": {},
     "output_type": "execute_result"
    }
   ],
   "source": [
    "arr2.ndim"
   ]
  },
  {
   "cell_type": "code",
   "execution_count": 42,
   "id": "13845f36-ddcb-4df4-ae02-5540a085fcc9",
   "metadata": {},
   "outputs": [
    {
     "data": {
      "text/plain": [
       "array([[0., 0., 0., 0.],\n",
       "       [0., 0., 0., 0.],\n",
       "       [0., 0., 0., 0.]])"
      ]
     },
     "execution_count": 42,
     "metadata": {},
     "output_type": "execute_result"
    }
   ],
   "source": [
    "arr2 = np.zeros((3,4))\n",
    "arr2"
   ]
  },
  {
   "cell_type": "code",
   "execution_count": 43,
   "id": "475f8521-d3bc-4252-9545-cae19d9f7313",
   "metadata": {},
   "outputs": [
    {
     "data": {
      "text/plain": [
       "2"
      ]
     },
     "execution_count": 43,
     "metadata": {},
     "output_type": "execute_result"
    }
   ],
   "source": [
    "arr2.ndim"
   ]
  },
  {
   "cell_type": "code",
   "execution_count": 44,
   "id": "82b0f845-a9b1-4389-becc-799edaaf7af9",
   "metadata": {},
   "outputs": [
    {
     "data": {
      "text/plain": [
       "array([[[0., 0., 0., 0.],\n",
       "        [0., 0., 0., 0.],\n",
       "        [0., 0., 0., 0.]]])"
      ]
     },
     "execution_count": 44,
     "metadata": {},
     "output_type": "execute_result"
    }
   ],
   "source": [
    "arr3 = np.zeros((1,3,4)) #3rows, 4 col, 1dimension\n",
    "arr3"
   ]
  },
  {
   "cell_type": "code",
   "execution_count": 45,
   "id": "7ab19462-7ac0-4fda-ad9b-452302c17540",
   "metadata": {},
   "outputs": [
    {
     "data": {
      "text/plain": [
       "3"
      ]
     },
     "execution_count": 45,
     "metadata": {},
     "output_type": "execute_result"
    }
   ],
   "source": [
    "arr3.ndim"
   ]
  },
  {
   "cell_type": "code",
   "execution_count": 46,
   "id": "2aece870-14e5-48a6-a8cb-ace11a3b2ece",
   "metadata": {},
   "outputs": [
    {
     "data": {
      "text/plain": [
       "array([[[[0., 0., 0., 0.],\n",
       "         [0., 0., 0., 0.],\n",
       "         [0., 0., 0., 0.]]]])"
      ]
     },
     "execution_count": 46,
     "metadata": {},
     "output_type": "execute_result"
    }
   ],
   "source": [
    "arr4 = np.zeros((1,1,3,4))\n",
    "arr4"
   ]
  },
  {
   "cell_type": "code",
   "execution_count": 47,
   "id": "fcc91818-7f92-4f76-ada4-1acbe2f6ee53",
   "metadata": {},
   "outputs": [
    {
     "data": {
      "text/plain": [
       "4"
      ]
     },
     "execution_count": 47,
     "metadata": {},
     "output_type": "execute_result"
    }
   ],
   "source": [
    "arr4.ndim"
   ]
  },
  {
   "cell_type": "code",
   "execution_count": 48,
   "id": "48c4997c-ff05-41bc-80e6-28d490352a33",
   "metadata": {},
   "outputs": [
    {
     "data": {
      "text/plain": [
       "(1, 1, 3, 4)"
      ]
     },
     "execution_count": 48,
     "metadata": {},
     "output_type": "execute_result"
    }
   ],
   "source": [
    "arr4.shape"
   ]
  },
  {
   "cell_type": "code",
   "execution_count": 49,
   "id": "399086d8-ab10-4bd3-a39a-9cf07446e700",
   "metadata": {},
   "outputs": [
    {
     "data": {
      "text/plain": [
       "array([[[0., 0., 0., 0.],\n",
       "        [0., 0., 0., 0.],\n",
       "        [0., 0., 0., 0.]],\n",
       "\n",
       "       [[0., 0., 0., 0.],\n",
       "        [0., 0., 0., 0.],\n",
       "        [0., 0., 0., 0.]]])"
      ]
     },
     "execution_count": 49,
     "metadata": {},
     "output_type": "execute_result"
    }
   ],
   "source": [
    "arr3 = np.zeros((2,3,4))\n",
    "arr3"
   ]
  },
  {
   "cell_type": "code",
   "execution_count": 50,
   "id": "73deaf35-8b52-4f39-ac55-a9e4e289a9a1",
   "metadata": {},
   "outputs": [
    {
     "data": {
      "text/plain": [
       "3"
      ]
     },
     "execution_count": 50,
     "metadata": {},
     "output_type": "execute_result"
    }
   ],
   "source": [
    "arr3.ndim"
   ]
  },
  {
   "cell_type": "code",
   "execution_count": 51,
   "id": "f4e6467f-a93c-416a-9041-a2385d1846ec",
   "metadata": {},
   "outputs": [
    {
     "data": {
      "text/plain": [
       "(2, 3, 4)"
      ]
     },
     "execution_count": 51,
     "metadata": {},
     "output_type": "execute_result"
    }
   ],
   "source": [
    "arr3.shape"
   ]
  },
  {
   "cell_type": "code",
   "execution_count": 52,
   "id": "b65857a3-1a30-41ed-86db-6df0e606361c",
   "metadata": {},
   "outputs": [],
   "source": [
    "arr1 = np.random.randint(1,10,(5,6))"
   ]
  },
  {
   "cell_type": "code",
   "execution_count": 53,
   "id": "eb56d878-79e6-47da-82ea-be1bd3efc49f",
   "metadata": {},
   "outputs": [
    {
     "data": {
      "text/plain": [
       "array([[2, 3, 7, 9, 3, 4],\n",
       "       [9, 6, 7, 9, 4, 1],\n",
       "       [2, 3, 9, 8, 5, 5],\n",
       "       [7, 6, 3, 7, 6, 8],\n",
       "       [3, 2, 4, 1, 2, 6]])"
      ]
     },
     "execution_count": 53,
     "metadata": {},
     "output_type": "execute_result"
    }
   ],
   "source": [
    "arr1"
   ]
  },
  {
   "cell_type": "code",
   "execution_count": 54,
   "id": "731452ae-2960-43e2-b6fe-5d6eb9626db4",
   "metadata": {},
   "outputs": [
    {
     "data": {
      "text/plain": [
       "array([[False, False,  True,  True, False, False],\n",
       "       [ True,  True,  True,  True, False, False],\n",
       "       [False, False,  True,  True, False, False],\n",
       "       [ True,  True, False,  True,  True,  True],\n",
       "       [False, False, False, False, False,  True]])"
      ]
     },
     "execution_count": 54,
     "metadata": {},
     "output_type": "execute_result"
    }
   ],
   "source": [
    "arr1>5"
   ]
  },
  {
   "cell_type": "code",
   "execution_count": 55,
   "id": "0b4ed3cd-683c-4eb9-a900-ce6be7b9e646",
   "metadata": {},
   "outputs": [
    {
     "data": {
      "text/plain": [
       "array([7, 9, 9, 6, 7, 9, 9, 8, 7, 6, 7, 6, 8, 6])"
      ]
     },
     "execution_count": 55,
     "metadata": {},
     "output_type": "execute_result"
    }
   ],
   "source": [
    "arr1[arr1>5]"
   ]
  },
  {
   "cell_type": "code",
   "execution_count": 56,
   "id": "f1ec0534-b57b-405c-bbea-e082ce0626b9",
   "metadata": {},
   "outputs": [
    {
     "data": {
      "text/plain": [
       "array([1, 2, 3, 4])"
      ]
     },
     "execution_count": 56,
     "metadata": {},
     "output_type": "execute_result"
    }
   ],
   "source": [
    "arr"
   ]
  },
  {
   "cell_type": "code",
   "execution_count": 57,
   "id": "760e80b6-d384-4e2e-a92d-612a4e6a26ea",
   "metadata": {},
   "outputs": [
    {
     "data": {
      "text/plain": [
       "1"
      ]
     },
     "execution_count": 57,
     "metadata": {},
     "output_type": "execute_result"
    }
   ],
   "source": [
    "arr[0]"
   ]
  },
  {
   "cell_type": "code",
   "execution_count": 58,
   "id": "66b72644-d431-47fb-ab76-5f42d86167a3",
   "metadata": {},
   "outputs": [
    {
     "data": {
      "text/plain": [
       "2"
      ]
     },
     "execution_count": 58,
     "metadata": {},
     "output_type": "execute_result"
    }
   ],
   "source": [
    "arr[1]"
   ]
  },
  {
   "cell_type": "code",
   "execution_count": 59,
   "id": "0ae55c3f-7413-4e04-b15f-cd77806541fb",
   "metadata": {},
   "outputs": [
    {
     "data": {
      "text/plain": [
       "array([[2, 3, 7, 9, 3, 4],\n",
       "       [9, 6, 7, 9, 4, 1],\n",
       "       [2, 3, 9, 8, 5, 5],\n",
       "       [7, 6, 3, 7, 6, 8],\n",
       "       [3, 2, 4, 1, 2, 6]])"
      ]
     },
     "execution_count": 59,
     "metadata": {},
     "output_type": "execute_result"
    }
   ],
   "source": [
    "arr1"
   ]
  },
  {
   "cell_type": "code",
   "execution_count": 60,
   "id": "2ef94781-915b-4de7-9af6-003d88eae77c",
   "metadata": {},
   "outputs": [
    {
     "data": {
      "text/plain": [
       "8"
      ]
     },
     "execution_count": 60,
     "metadata": {},
     "output_type": "execute_result"
    }
   ],
   "source": [
    "arr1[2][3]"
   ]
  },
  {
   "cell_type": "code",
   "execution_count": 61,
   "id": "56bfba63-515f-4096-bc1b-92f0b776e323",
   "metadata": {},
   "outputs": [
    {
     "data": {
      "text/plain": [
       "array([3, 7, 9])"
      ]
     },
     "execution_count": 61,
     "metadata": {},
     "output_type": "execute_result"
    }
   ],
   "source": [
    "arr1[0][1:4]"
   ]
  },
  {
   "cell_type": "code",
   "execution_count": 62,
   "id": "f0ac3170-7814-4748-9d48-51aa5747b119",
   "metadata": {},
   "outputs": [
    {
     "data": {
      "text/plain": [
       "array([3, 7, 9])"
      ]
     },
     "execution_count": 62,
     "metadata": {},
     "output_type": "execute_result"
    }
   ],
   "source": [
    "arr1[0, 1:4]"
   ]
  },
  {
   "cell_type": "code",
   "execution_count": 63,
   "id": "4d790c8a-88f6-4cd0-a836-c4af5a240102",
   "metadata": {},
   "outputs": [
    {
     "data": {
      "text/plain": [
       "array([3, 3])"
      ]
     },
     "execution_count": 63,
     "metadata": {},
     "output_type": "execute_result"
    }
   ],
   "source": [
    "arr1[0, [1,4]]"
   ]
  },
  {
   "cell_type": "code",
   "execution_count": 64,
   "id": "5b7be57d-d6a6-4563-ac46-a8e402d8736c",
   "metadata": {},
   "outputs": [
    {
     "data": {
      "text/plain": [
       "array([3, 4])"
      ]
     },
     "execution_count": 64,
     "metadata": {},
     "output_type": "execute_result"
    }
   ],
   "source": [
    "arr1[0, [1,5]]   #not slicing gives particular values only"
   ]
  },
  {
   "cell_type": "code",
   "execution_count": 65,
   "id": "8eb51491-05b1-462a-9996-a157fff775ca",
   "metadata": {},
   "outputs": [
    {
     "data": {
      "text/plain": [
       "array([[8, 5],\n",
       "       [7, 6]])"
      ]
     },
     "execution_count": 65,
     "metadata": {},
     "output_type": "execute_result"
    }
   ],
   "source": [
    "arr1[2:4, 3:5]  #Gives slicing values"
   ]
  },
  {
   "cell_type": "code",
   "execution_count": 66,
   "id": "fc286deb-e506-47ae-89d4-37b2b096ffd9",
   "metadata": {},
   "outputs": [
    {
     "data": {
      "text/plain": [
       "array([[2, 3, 9, 8, 5, 5],\n",
       "       [7, 6, 3, 7, 6, 8]])"
      ]
     },
     "execution_count": 66,
     "metadata": {},
     "output_type": "execute_result"
    }
   ],
   "source": [
    "arr1[2:4]"
   ]
  },
  {
   "cell_type": "code",
   "execution_count": 67,
   "id": "37901f93-9244-45df-8382-05e715a6d051",
   "metadata": {},
   "outputs": [
    {
     "data": {
      "text/plain": [
       "array([9, 3])"
      ]
     },
     "execution_count": 67,
     "metadata": {},
     "output_type": "execute_result"
    }
   ],
   "source": [
    "arr1[0, 3:5]"
   ]
  },
  {
   "cell_type": "code",
   "execution_count": 68,
   "id": "cd614709-b724-4dc4-9f3e-c4a8c91a7e5f",
   "metadata": {},
   "outputs": [
    {
     "data": {
      "text/plain": [
       "array([[2, 3, 7, 9, 3, 4],\n",
       "       [9, 6, 7, 9, 4, 1],\n",
       "       [2, 3, 9, 8, 5, 5],\n",
       "       [7, 6, 3, 7, 6, 8],\n",
       "       [3, 2, 4, 1, 2, 6]])"
      ]
     },
     "execution_count": 68,
     "metadata": {},
     "output_type": "execute_result"
    }
   ],
   "source": [
    "arr1"
   ]
  },
  {
   "cell_type": "code",
   "execution_count": 69,
   "id": "998b9027-cb9d-40d2-815f-c398dad5b5eb",
   "metadata": {},
   "outputs": [
    {
     "data": {
      "text/plain": [
       "array([[0., 0., 0., 0.],\n",
       "       [0., 0., 0., 0.],\n",
       "       [0., 0., 0., 0.]])"
      ]
     },
     "execution_count": 69,
     "metadata": {},
     "output_type": "execute_result"
    }
   ],
   "source": [
    "arr2"
   ]
  },
  {
   "cell_type": "code",
   "execution_count": 70,
   "id": "87678ad4-d1b3-45e3-8309-e12c68d8591b",
   "metadata": {},
   "outputs": [],
   "source": [
    "arr1 = np.random.randint(1,3, (3,3))\n",
    "arr2 = np.random.randint(1,3, (3,3))"
   ]
  },
  {
   "cell_type": "code",
   "execution_count": 71,
   "id": "352601a0-1d26-4cd5-b934-d4d0d90b82e2",
   "metadata": {},
   "outputs": [
    {
     "data": {
      "text/plain": [
       "array([[1, 1, 2],\n",
       "       [1, 2, 1],\n",
       "       [1, 1, 2]])"
      ]
     },
     "execution_count": 71,
     "metadata": {},
     "output_type": "execute_result"
    }
   ],
   "source": [
    "arr1"
   ]
  },
  {
   "cell_type": "code",
   "execution_count": 72,
   "id": "d94fb088-e7df-4856-8817-e6298650d388",
   "metadata": {},
   "outputs": [
    {
     "data": {
      "text/plain": [
       "array([[1, 2, 2],\n",
       "       [1, 2, 2],\n",
       "       [2, 1, 2]])"
      ]
     },
     "execution_count": 72,
     "metadata": {},
     "output_type": "execute_result"
    }
   ],
   "source": [
    "arr2"
   ]
  },
  {
   "cell_type": "code",
   "execution_count": 73,
   "id": "9c76f650-a713-4f01-b854-7e592fc21d43",
   "metadata": {},
   "outputs": [
    {
     "data": {
      "text/plain": [
       "array([[2, 3, 4],\n",
       "       [2, 4, 3],\n",
       "       [3, 2, 4]])"
      ]
     },
     "execution_count": 73,
     "metadata": {},
     "output_type": "execute_result"
    }
   ],
   "source": [
    "arr1+arr2"
   ]
  },
  {
   "cell_type": "code",
   "execution_count": 74,
   "id": "f5340817-2790-42cc-85de-3cbec02c6d0b",
   "metadata": {},
   "outputs": [
    {
     "data": {
      "text/plain": [
       "array([[ 0, -1,  0],\n",
       "       [ 0,  0, -1],\n",
       "       [-1,  0,  0]])"
      ]
     },
     "execution_count": 74,
     "metadata": {},
     "output_type": "execute_result"
    }
   ],
   "source": [
    "arr1-arr2"
   ]
  },
  {
   "cell_type": "code",
   "execution_count": 75,
   "id": "c1e0595b-9d14-489c-93e4-18aaf5c0f6be",
   "metadata": {},
   "outputs": [
    {
     "data": {
      "text/plain": [
       "array([[1, 2, 4],\n",
       "       [1, 4, 2],\n",
       "       [2, 1, 4]])"
      ]
     },
     "execution_count": 75,
     "metadata": {},
     "output_type": "execute_result"
    }
   ],
   "source": [
    "arr1*arr2"
   ]
  },
  {
   "cell_type": "code",
   "execution_count": 77,
   "id": "c44b6dc1-4d57-4195-855d-2ce9e133a4f8",
   "metadata": {},
   "outputs": [
    {
     "data": {
      "text/plain": [
       "array([[6, 6, 8],\n",
       "       [5, 7, 8],\n",
       "       [6, 6, 8]])"
      ]
     },
     "execution_count": 77,
     "metadata": {},
     "output_type": "execute_result"
    }
   ],
   "source": [
    "arr1@arr2  ##matix multiplication"
   ]
  },
  {
   "cell_type": "code",
   "execution_count": 78,
   "id": "1449c9be-e1a3-40d5-b79b-6be64bd59d4b",
   "metadata": {},
   "outputs": [
    {
     "data": {
      "text/plain": [
       "array([[1. , 0.5, 1. ],\n",
       "       [1. , 1. , 0.5],\n",
       "       [0.5, 1. , 1. ]])"
      ]
     },
     "execution_count": 78,
     "metadata": {},
     "output_type": "execute_result"
    }
   ],
   "source": [
    "arr1/arr2"
   ]
  },
  {
   "cell_type": "code",
   "execution_count": null,
   "id": "470e9cba-b8b2-42fc-b955-8dd6015a3140",
   "metadata": {},
   "outputs": [],
   "source": []
  },
  {
   "cell_type": "markdown",
   "id": "77566837-d265-4059-a224-f6e8199e199b",
   "metadata": {},
   "source": [
    "# Brodcasting"
   ]
  },
  {
   "cell_type": "code",
   "execution_count": 79,
   "id": "0d5b1610-5205-436f-a0ca-c36adc990dc8",
   "metadata": {},
   "outputs": [],
   "source": [
    "arr = np.zeros((3,4))"
   ]
  },
  {
   "cell_type": "code",
   "execution_count": 80,
   "id": "7c271d05-2e8b-45ba-b193-516f9fb1aac1",
   "metadata": {},
   "outputs": [
    {
     "data": {
      "text/plain": [
       "array([[0., 0., 0., 0.],\n",
       "       [0., 0., 0., 0.],\n",
       "       [0., 0., 0., 0.]])"
      ]
     },
     "execution_count": 80,
     "metadata": {},
     "output_type": "execute_result"
    }
   ],
   "source": [
    "arr"
   ]
  },
  {
   "cell_type": "code",
   "execution_count": 81,
   "id": "0df18191-4430-4a27-b8f6-12f441bac35b",
   "metadata": {},
   "outputs": [
    {
     "data": {
      "text/plain": [
       "array([[5., 5., 5., 5.],\n",
       "       [5., 5., 5., 5.],\n",
       "       [5., 5., 5., 5.]])"
      ]
     },
     "execution_count": 81,
     "metadata": {},
     "output_type": "execute_result"
    }
   ],
   "source": [
    "arr+5"
   ]
  },
  {
   "cell_type": "code",
   "execution_count": 82,
   "id": "ae1bd6c9-697c-4bfe-bf59-88dbd358a90b",
   "metadata": {},
   "outputs": [
    {
     "data": {
      "text/plain": [
       "array([[0., 0., 0., 0.],\n",
       "       [0., 0., 0., 0.],\n",
       "       [0., 0., 0., 0.]])"
      ]
     },
     "execution_count": 82,
     "metadata": {},
     "output_type": "execute_result"
    }
   ],
   "source": [
    "arr"
   ]
  },
  {
   "cell_type": "code",
   "execution_count": 84,
   "id": "423cc34d-66b2-4b39-ac4d-e104d9012a7c",
   "metadata": {},
   "outputs": [],
   "source": [
    "a = np.array([1,2,3,4])"
   ]
  },
  {
   "cell_type": "code",
   "execution_count": 85,
   "id": "fd3c6de8-64ae-4aaa-94f6-7d6a00bf7c4a",
   "metadata": {},
   "outputs": [
    {
     "data": {
      "text/plain": [
       "array([1, 2, 3, 4])"
      ]
     },
     "execution_count": 85,
     "metadata": {},
     "output_type": "execute_result"
    }
   ],
   "source": [
    "a"
   ]
  },
  {
   "cell_type": "code",
   "execution_count": 86,
   "id": "14e83e24-252f-497f-9cec-ac4bbf79f93d",
   "metadata": {},
   "outputs": [
    {
     "data": {
      "text/plain": [
       "array([[1., 2., 3., 4.],\n",
       "       [1., 2., 3., 4.],\n",
       "       [1., 2., 3., 4.]])"
      ]
     },
     "execution_count": 86,
     "metadata": {},
     "output_type": "execute_result"
    }
   ],
   "source": [
    "arr + a"
   ]
  },
  {
   "cell_type": "code",
   "execution_count": 87,
   "id": "91a8aa6a-2ad4-46d8-b9a8-500189f2f70d",
   "metadata": {},
   "outputs": [],
   "source": [
    "a = np.array([1,2,3])"
   ]
  },
  {
   "cell_type": "code",
   "execution_count": 88,
   "id": "5b616411-0ed5-4df1-bbc1-a6e535eee6a0",
   "metadata": {},
   "outputs": [
    {
     "data": {
      "text/plain": [
       "array([1, 2, 3])"
      ]
     },
     "execution_count": 88,
     "metadata": {},
     "output_type": "execute_result"
    }
   ],
   "source": [
    "a"
   ]
  },
  {
   "cell_type": "code",
   "execution_count": 90,
   "id": "553f85ee-b2f6-4a5e-b4e5-b923be4c4459",
   "metadata": {},
   "outputs": [
    {
     "ename": "ValueError",
     "evalue": "operands could not be broadcast together with shapes (3,4) (3,) ",
     "output_type": "error",
     "traceback": [
      "\u001b[0;31m---------------------------------------------------------------------------\u001b[0m",
      "\u001b[0;31mValueError\u001b[0m                                Traceback (most recent call last)",
      "Cell \u001b[0;32mIn[90], line 1\u001b[0m\n\u001b[0;32m----> 1\u001b[0m \u001b[43marr\u001b[49m\u001b[38;5;241;43m+\u001b[39;49m\u001b[43ma\u001b[49m  \u001b[38;5;66;03m##dimension not same\u001b[39;00m\n",
      "\u001b[0;31mValueError\u001b[0m: operands could not be broadcast together with shapes (3,4) (3,) "
     ]
    }
   ],
   "source": [
    "arr+a  ##dimension not same"
   ]
  },
  {
   "cell_type": "code",
   "execution_count": 94,
   "id": "d1eb385e-1cf2-4edc-9c67-6ce467300c70",
   "metadata": {},
   "outputs": [],
   "source": [
    "a = np.array([[1,2,3]])"
   ]
  },
  {
   "cell_type": "code",
   "execution_count": 95,
   "id": "fce886cd-de3e-4799-a1b7-f510631b0adc",
   "metadata": {},
   "outputs": [
    {
     "data": {
      "text/plain": [
       "array([[1, 2, 3]])"
      ]
     },
     "execution_count": 95,
     "metadata": {},
     "output_type": "execute_result"
    }
   ],
   "source": [
    "a"
   ]
  },
  {
   "cell_type": "code",
   "execution_count": 96,
   "id": "419a0ccd-8e66-4a9f-b9cf-81f6d8649391",
   "metadata": {},
   "outputs": [
    {
     "data": {
      "text/plain": [
       "array([[1],\n",
       "       [2],\n",
       "       [3]])"
      ]
     },
     "execution_count": 96,
     "metadata": {},
     "output_type": "execute_result"
    }
   ],
   "source": [
    "a.T  ## Transpose"
   ]
  },
  {
   "cell_type": "code",
   "execution_count": 97,
   "id": "e785100a-2a10-48a3-ab38-06ff9b890de2",
   "metadata": {},
   "outputs": [
    {
     "data": {
      "text/plain": [
       "array([[1., 1., 1., 1.],\n",
       "       [2., 2., 2., 2.],\n",
       "       [3., 3., 3., 3.]])"
      ]
     },
     "execution_count": 97,
     "metadata": {},
     "output_type": "execute_result"
    }
   ],
   "source": [
    "arr + a.T"
   ]
  },
  {
   "cell_type": "code",
   "execution_count": 98,
   "id": "f583a6a2-6521-4818-861f-8e3ef56af198",
   "metadata": {},
   "outputs": [
    {
     "data": {
      "text/plain": [
       "array([[1., 1., 1., 1.],\n",
       "       [2., 2., 2., 2.],\n",
       "       [3., 3., 3., 3.]])"
      ]
     },
     "execution_count": 98,
     "metadata": {},
     "output_type": "execute_result"
    }
   ],
   "source": [
    "a.T + arr"
   ]
  },
  {
   "cell_type": "code",
   "execution_count": 99,
   "id": "0064138c-6b25-42c0-af37-6e79122db244",
   "metadata": {},
   "outputs": [],
   "source": [
    "a = np.array([1,2,3])"
   ]
  },
  {
   "cell_type": "code",
   "execution_count": 100,
   "id": "81043699-9874-4816-a5a1-b04df68a9b78",
   "metadata": {},
   "outputs": [
    {
     "data": {
      "text/plain": [
       "array([1, 2, 3])"
      ]
     },
     "execution_count": 100,
     "metadata": {},
     "output_type": "execute_result"
    }
   ],
   "source": [
    "a.T"
   ]
  },
  {
   "cell_type": "code",
   "execution_count": 101,
   "id": "783d0421-c517-444e-97b7-add1cca9c856",
   "metadata": {},
   "outputs": [
    {
     "data": {
      "text/plain": [
       "array([[1, 1, 2],\n",
       "       [1, 2, 1],\n",
       "       [1, 1, 2]])"
      ]
     },
     "execution_count": 101,
     "metadata": {},
     "output_type": "execute_result"
    }
   ],
   "source": [
    "arr1"
   ]
  },
  {
   "cell_type": "code",
   "execution_count": 106,
   "id": "f808a461-f38f-4421-ae48-c9f908382c05",
   "metadata": {},
   "outputs": [
    {
     "data": {
      "text/plain": [
       "array([[1.        , 1.        , 1.41421356],\n",
       "       [1.        , 1.41421356, 1.        ],\n",
       "       [1.        , 1.        , 1.41421356]])"
      ]
     },
     "execution_count": 106,
     "metadata": {},
     "output_type": "execute_result"
    }
   ],
   "source": [
    "np.sqrt(arr1)  ##Square root"
   ]
  },
  {
   "cell_type": "code",
   "execution_count": 107,
   "id": "977e1ad1-3e84-4488-857e-5346ce81331b",
   "metadata": {},
   "outputs": [
    {
     "data": {
      "text/plain": [
       "array([[0.     , 0.     , 0.30103],\n",
       "       [0.     , 0.30103, 0.     ],\n",
       "       [0.     , 0.     , 0.30103]])"
      ]
     },
     "execution_count": 107,
     "metadata": {},
     "output_type": "execute_result"
    }
   ],
   "source": [
    "np.log10(arr1)  ##log value"
   ]
  },
  {
   "cell_type": "code",
   "execution_count": 108,
   "id": "1b1aaafc-8b0c-4211-aad1-d278de7ae8eb",
   "metadata": {},
   "outputs": [
    {
     "data": {
      "text/plain": [
       "array([[2.71828183, 2.71828183, 7.3890561 ],\n",
       "       [2.71828183, 7.3890561 , 2.71828183],\n",
       "       [2.71828183, 2.71828183, 7.3890561 ]])"
      ]
     },
     "execution_count": 108,
     "metadata": {},
     "output_type": "execute_result"
    }
   ],
   "source": [
    "np.exp(arr1)  ##Exponential Value"
   ]
  },
  {
   "cell_type": "code",
   "execution_count": 109,
   "id": "11fbc2d7-1df1-4a14-8f6f-f8c2d133690e",
   "metadata": {},
   "outputs": [
    {
     "data": {
      "text/plain": [
       "1"
      ]
     },
     "execution_count": 109,
     "metadata": {},
     "output_type": "execute_result"
    }
   ],
   "source": [
    "np.min(a)"
   ]
  },
  {
   "cell_type": "code",
   "execution_count": 110,
   "id": "55a3f48e-345c-4d24-a422-99bf14b8b16f",
   "metadata": {},
   "outputs": [
    {
     "data": {
      "text/plain": [
       "3"
      ]
     },
     "execution_count": 110,
     "metadata": {},
     "output_type": "execute_result"
    }
   ],
   "source": [
    "np.max(a)"
   ]
  },
  {
   "cell_type": "code",
   "execution_count": 111,
   "id": "c0812a9a-e629-41a7-a6fb-2b47533755e9",
   "metadata": {},
   "outputs": [
    {
     "data": {
      "text/plain": [
       "array([[1, 1, 2],\n",
       "       [1, 2, 1],\n",
       "       [1, 1, 2]])"
      ]
     },
     "execution_count": 111,
     "metadata": {},
     "output_type": "execute_result"
    }
   ],
   "source": [
    "arr1"
   ]
  },
  {
   "cell_type": "code",
   "execution_count": 112,
   "id": "ad416989-9fe0-42f2-9bf8-1b0a82239e98",
   "metadata": {},
   "outputs": [
    {
     "data": {
      "text/plain": [
       "array([[1, 1, 1],\n",
       "       [1, 2, 1],\n",
       "       [2, 1, 2]])"
      ]
     },
     "execution_count": 112,
     "metadata": {},
     "output_type": "execute_result"
    }
   ],
   "source": [
    "arr1.T"
   ]
  },
  {
   "cell_type": "code",
   "execution_count": 113,
   "id": "74001e37-9922-4e4d-b462-68ebc40f241f",
   "metadata": {},
   "outputs": [
    {
     "data": {
      "text/plain": [
       "array([0., 0., 0., 0., 0., 0., 0., 0., 0., 0., 0., 0.])"
      ]
     },
     "execution_count": 113,
     "metadata": {},
     "output_type": "execute_result"
    }
   ],
   "source": [
    "arr.flatten()"
   ]
  },
  {
   "cell_type": "code",
   "execution_count": 118,
   "id": "bf54e9b6-bcd2-4660-9a5e-7efe240e2357",
   "metadata": {},
   "outputs": [],
   "source": [
    "arr = np.array([[1,2,3], [4,5,6],[1,2,3]])"
   ]
  },
  {
   "cell_type": "code",
   "execution_count": 119,
   "id": "49772ed1-1f44-4bfa-bbc2-513a689b257a",
   "metadata": {},
   "outputs": [
    {
     "data": {
      "text/plain": [
       "array([[1, 2, 3],\n",
       "       [4, 5, 6],\n",
       "       [1, 2, 3]])"
      ]
     },
     "execution_count": 119,
     "metadata": {},
     "output_type": "execute_result"
    }
   ],
   "source": [
    "arr"
   ]
  },
  {
   "cell_type": "code",
   "execution_count": 120,
   "id": "d6418cf7-b403-4505-bf3e-a2942a74f0f4",
   "metadata": {},
   "outputs": [
    {
     "data": {
      "text/plain": [
       "27"
      ]
     },
     "execution_count": 120,
     "metadata": {},
     "output_type": "execute_result"
    }
   ],
   "source": [
    "np.sum(arr)"
   ]
  },
  {
   "cell_type": "code",
   "execution_count": 123,
   "id": "21bab15e-00c6-4b7f-a7b9-844f821075de",
   "metadata": {},
   "outputs": [
    {
     "data": {
      "text/plain": [
       "array([ 6,  9, 12])"
      ]
     },
     "execution_count": 123,
     "metadata": {},
     "output_type": "execute_result"
    }
   ],
   "source": [
    "np.sum(arr, axis=0)   ##column wise sum axis=0"
   ]
  },
  {
   "cell_type": "code",
   "execution_count": 124,
   "id": "3c542478-eb15-4a08-8a89-f804c5bc7ed7",
   "metadata": {},
   "outputs": [
    {
     "data": {
      "text/plain": [
       "array([ 6, 15,  6])"
      ]
     },
     "execution_count": 124,
     "metadata": {},
     "output_type": "execute_result"
    }
   ],
   "source": [
    "np.sum(arr, axis=1) ##row wise sum axis=1"
   ]
  },
  {
   "cell_type": "code",
   "execution_count": 126,
   "id": "c2c9999e-664c-41a4-96e2-7f604c8ed109",
   "metadata": {},
   "outputs": [
    {
     "data": {
      "text/plain": [
       "array([1, 2, 3, 4])"
      ]
     },
     "execution_count": 126,
     "metadata": {},
     "output_type": "execute_result"
    }
   ],
   "source": [
    "#expand_dims>> expand the array by inserting a new array\n",
    "arr = np.array([1,2,3,4])\n",
    "arr"
   ]
  },
  {
   "cell_type": "code",
   "execution_count": 127,
   "id": "931f0c6b-a12f-49d8-ae43-411d10c0a596",
   "metadata": {},
   "outputs": [
    {
     "data": {
      "text/plain": [
       "1"
      ]
     },
     "execution_count": 127,
     "metadata": {},
     "output_type": "execute_result"
    }
   ],
   "source": [
    "arr.ndim"
   ]
  },
  {
   "cell_type": "code",
   "execution_count": 129,
   "id": "0fbd34f5-35f7-4039-9787-a380f1e51281",
   "metadata": {},
   "outputs": [],
   "source": [
    "arr1 = np.expand_dims(arr, axis=0)"
   ]
  },
  {
   "cell_type": "code",
   "execution_count": 131,
   "id": "5d58597b-32e8-4e54-a4d4-71867b986433",
   "metadata": {},
   "outputs": [
    {
     "data": {
      "text/plain": [
       "array([[1, 2, 3, 4]])"
      ]
     },
     "execution_count": 131,
     "metadata": {},
     "output_type": "execute_result"
    }
   ],
   "source": [
    "arr1  ##now it's 2D"
   ]
  },
  {
   "cell_type": "code",
   "execution_count": 132,
   "id": "ccaa9482-2d19-485b-843f-999c68a5c781",
   "metadata": {},
   "outputs": [
    {
     "data": {
      "text/plain": [
       "2"
      ]
     },
     "execution_count": 132,
     "metadata": {},
     "output_type": "execute_result"
    }
   ],
   "source": [
    "arr1.ndim"
   ]
  },
  {
   "cell_type": "code",
   "execution_count": 133,
   "id": "3f9030ef-1487-4baa-bb53-87d2988fbcfa",
   "metadata": {},
   "outputs": [],
   "source": [
    "arr2 = np.expand_dims(arr1, axis=0)"
   ]
  },
  {
   "cell_type": "code",
   "execution_count": 134,
   "id": "9128a31e-e6cc-4efd-9d23-347ff0c11087",
   "metadata": {},
   "outputs": [
    {
     "data": {
      "text/plain": [
       "array([[[1, 2, 3, 4]]])"
      ]
     },
     "execution_count": 134,
     "metadata": {},
     "output_type": "execute_result"
    }
   ],
   "source": [
    "arr2"
   ]
  },
  {
   "cell_type": "code",
   "execution_count": 136,
   "id": "38017a37-e48d-47d1-ad4c-704af9386317",
   "metadata": {},
   "outputs": [
    {
     "data": {
      "text/plain": [
       "3"
      ]
     },
     "execution_count": 136,
     "metadata": {},
     "output_type": "execute_result"
    }
   ],
   "source": [
    "arr2.ndim"
   ]
  },
  {
   "cell_type": "code",
   "execution_count": 137,
   "id": "8d6d372d-a905-4160-b087-179be3f907f5",
   "metadata": {},
   "outputs": [
    {
     "data": {
      "text/plain": [
       "(1, 1, 4)"
      ]
     },
     "execution_count": 137,
     "metadata": {},
     "output_type": "execute_result"
    }
   ],
   "source": [
    "arr2.shape"
   ]
  },
  {
   "cell_type": "code",
   "execution_count": 138,
   "id": "aa004813-bc89-43ba-b51d-28b7e62c63ca",
   "metadata": {},
   "outputs": [],
   "source": [
    "arr1 = np.expand_dims(arr, axis=1)"
   ]
  },
  {
   "cell_type": "code",
   "execution_count": 139,
   "id": "d6c49d1b-e514-4d47-b57a-1e82565e3453",
   "metadata": {},
   "outputs": [
    {
     "data": {
      "text/plain": [
       "array([[1],\n",
       "       [2],\n",
       "       [3],\n",
       "       [4]])"
      ]
     },
     "execution_count": 139,
     "metadata": {},
     "output_type": "execute_result"
    }
   ],
   "source": [
    "arr1"
   ]
  },
  {
   "cell_type": "code",
   "execution_count": 140,
   "id": "fe90fc1b-d71c-42aa-98c1-af99fc6997bc",
   "metadata": {},
   "outputs": [],
   "source": [
    "arr = np.zeros((3,4))"
   ]
  },
  {
   "cell_type": "code",
   "execution_count": 141,
   "id": "50b830a3-3b91-43d0-935d-3a81bb9ce168",
   "metadata": {},
   "outputs": [
    {
     "data": {
      "text/plain": [
       "array([[0., 0., 0., 0.],\n",
       "       [0., 0., 0., 0.],\n",
       "       [0., 0., 0., 0.]])"
      ]
     },
     "execution_count": 141,
     "metadata": {},
     "output_type": "execute_result"
    }
   ],
   "source": [
    "arr"
   ]
  },
  {
   "cell_type": "code",
   "execution_count": 142,
   "id": "a84c0835-7058-4b7f-a261-8a8346a345a0",
   "metadata": {},
   "outputs": [
    {
     "data": {
      "text/plain": [
       "array([[[0., 0., 0., 0.],\n",
       "        [0., 0., 0., 0.],\n",
       "        [0., 0., 0., 0.]]])"
      ]
     },
     "execution_count": 142,
     "metadata": {},
     "output_type": "execute_result"
    }
   ],
   "source": [
    "arr1 = np.expand_dims(arr, axis=0)\n",
    "arr1"
   ]
  },
  {
   "cell_type": "code",
   "execution_count": 143,
   "id": "c653b1d1-d6a8-4d81-9808-c23bd210a650",
   "metadata": {},
   "outputs": [
    {
     "data": {
      "text/plain": [
       "array([[[0., 0., 0., 0.]],\n",
       "\n",
       "       [[0., 0., 0., 0.]],\n",
       "\n",
       "       [[0., 0., 0., 0.]]])"
      ]
     },
     "execution_count": 143,
     "metadata": {},
     "output_type": "execute_result"
    }
   ],
   "source": [
    "arr1 = np.expand_dims(arr, axis=1)\n",
    "arr1"
   ]
  },
  {
   "cell_type": "code",
   "execution_count": null,
   "id": "7b6890f5-d011-474a-a5c6-ed3e08be5457",
   "metadata": {},
   "outputs": [],
   "source": []
  }
 ],
 "metadata": {
  "kernelspec": {
   "display_name": "Python 3 (ipykernel)",
   "language": "python",
   "name": "python3"
  },
  "language_info": {
   "codemirror_mode": {
    "name": "ipython",
    "version": 3
   },
   "file_extension": ".py",
   "mimetype": "text/x-python",
   "name": "python",
   "nbconvert_exporter": "python",
   "pygments_lexer": "ipython3",
   "version": "3.10.8"
  }
 },
 "nbformat": 4,
 "nbformat_minor": 5
}
