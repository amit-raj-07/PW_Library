{
 "cells": [
  {
   "cell_type": "markdown",
   "id": "2c06a8ec-0203-43e5-a506-35ea1d2e015b",
   "metadata": {},
   "source": [
    "1. What is a Python library? Why do we use Python libraries?"
   ]
  },
  {
   "cell_type": "markdown",
   "id": "13580cdc-e67c-463a-88ab-d4934bf9a3c5",
   "metadata": {},
   "source": [
    "A Python library is a collection of pre-written and reusable code modules that provide a set of functions and methods to perform specific tasks. \n",
    "These libraries are designed to simplify and expedite the development process by providing ready-made solutions for common programming tasks.\n",
    "\n",
    "Here are some key reasons why Python libraries are widely used:\n",
    "\n",
    "1. Code Reusability: Libraries contain pre-built functions and modules that can be easily reused in different projects. This helps in saving time and \n",
    "effort by avoiding the need to reinvent the wheel for common tasks.\n",
    "\n",
    "2. Productivity: Python libraries abstract complex functionalities, allowing developers to focus on higher-level tasks rather than dealing with low-level details.\n",
    "This boosts productivity and accelerates the development process.\n",
    "\n",
    "3. Community Contributions: Python has a large and active community of developers who contribute to the creation and maintenance of various libraries. \n",
    "This collaborative effort results in a rich ecosystem of libraries covering a wide range of domains and applications.\n",
    "\n",
    "4. Specialized Functionality: Python libraries often provide specialized functionality in specific domains such as data analysis, machine learning, \n",
    "web development, scientific computing, etc. Leveraging these libraries allows developers to access advanced features without having to implement them from scratch.\n",
    "\n",
    "5. Code Consistency: Libraries follow established coding standards and best practices, promoting code consistency. Developers can rely on these standards\n",
    "when using library functions, ensuring a uniform and maintainable codebase.\n",
    "\n",
    "6. Performance Optimization: Many Python libraries are implemented in low-level languages like C or C++, making them highly efficient. This allows developers\n",
    "to benefit from optimized performance without sacrificing the simplicity of Python syntax.\n",
    "\n",
    "7. Documentation and Support: Well-maintained libraries come with comprehensive documentation that includes usage guides, examples, and explanations\n",
    "of functionality. Additionally, the community support for popular libraries is often robust, making it easier for developers to find solutions to common issues.\n",
    "\n",
    "Overall, Python libraries contribute significantly to the language's popularity and versatility, enabling developers to build complex applications efficiently."
   ]
  },
  {
   "cell_type": "markdown",
   "id": "033ed8be-355f-400f-bdd8-c39661c18893",
   "metadata": {},
   "source": [
    "2. What is the difference between Numpy array and List?"
   ]
  },
  {
   "cell_type": "markdown",
   "id": "4a480a25-fea7-4008-8550-baee65adfb35",
   "metadata": {},
   "source": [
    "NumPy arrays and Python lists are both used to store collections of data, but there are several key differences between them. Here are some of the main distinctions:\n",
    "\n",
    "1.  Type of Elements: \n",
    "   -  NumPy Array:  All elements in a NumPy array must be of the same data type. NumPy arrays are homogeneous, which means they can efficiently store and manipulate\n",
    "      large datasets of a single data type (e.g., integers, floats).\n",
    "   -  List:  Lists can contain elements of different data types. They are heterogeneous and can hold a mix of integers, floats, strings, or other Python objects.\n",
    "\n",
    "2.  Performance: \n",
    "   -  NumPy Array:  NumPy arrays are more memory-efficient and faster than lists for numerical operations. NumPy is implemented in C and allows for vectorized operations,\n",
    "      which means operations can be applied to entire arrays without the need for explicit looping in Python.\n",
    "   -  List:  Lists are generally slower and consume more memory compared to NumPy arrays, especially for large datasets. They are more versatile but may be less efficient\n",
    "      for numerical computations.\n",
    "\n",
    "3.  Syntax and Functionality: \n",
    "   -  NumPy Array:  NumPy provides a variety of functions and methods specifically designed for array manipulation, mathematical operations, linear algebra, and statistical\n",
    "      analysis. NumPy arrays support vectorized operations, making code concise and readable.\n",
    "   -  List:  Lists are part of the core Python language and provide a more general-purpose way to store and manipulate data. However, they lack the specialized functions and\n",
    "      optimizations that NumPy arrays offer for numerical computing.\n",
    "\n",
    "4.  Size and Dimensions: \n",
    "   -  NumPy Array:  NumPy arrays can be multi-dimensional, allowing the representation of matrices and tensors. This is especially useful for numerical computations in linear\n",
    "      algebra, machine learning, and scientific computing.\n",
    "   -  List:  Lists are one-dimensional, and to represent multi-dimensional structures, nested lists are used. However, working with nested lists can be less convenient for \n",
    "      numerical operations.\n",
    "\n",
    "5.  Memory Overhead: \n",
    "   -  NumPy Array:  NumPy arrays have less memory overhead compared to lists, as they store data more compactly and do not require extra information about data types for each\n",
    "      element.\n",
    "   -  List:  Lists have more memory overhead due to the flexibility of storing different data types and the need to store type information for each element.\n",
    "\n",
    "In summary, NumPy arrays are optimized for numerical computations and are more memory-efficient and faster for such operations. Lists, on the other hand, are more versatile\n",
    "and can store heterogeneous data types but are generally less efficient for numerical tasks. The choice between them depends on the specific requirements of the task at hand."
   ]
  },
  {
   "cell_type": "raw",
   "id": "a2f405f4-2822-4522-930e-3524aec7c879",
   "metadata": {},
   "source": [
    "3. Find the shape, size and dimension of the following array?\n",
    "[[1, 2, 3, 4]\n",
    "[5, 6, 7, 8],\n",
    "[9, 10, 11, 12]]"
   ]
  },
  {
   "cell_type": "code",
   "execution_count": 30,
   "id": "be85a301-bdfc-4b8b-a266-e6bb2f82fbd8",
   "metadata": {},
   "outputs": [
    {
     "name": "stdout",
     "output_type": "stream",
     "text": [
      "Array Shape: (3, 4)\n",
      "Array Size: 12\n",
      "Array Dimension: 2\n"
     ]
    }
   ],
   "source": [
    "import numpy as np\n",
    "\n",
    "my_array = np.array([[1, 2, 3, 4],\n",
    "                     [5, 6, 7, 8],\n",
    "                     [9, 10, 11, 12]])\n",
    "\n",
    "array_shape = my_array.shape\n",
    "array_size = my_array.size\n",
    "array_dimension = my_array.ndim\n",
    "\n",
    "print(\"Array Shape:\", array_shape)\n",
    "print(\"Array Size:\", array_size)\n",
    "print(\"Array Dimension:\", array_dimension)\n"
   ]
  },
  {
   "cell_type": "raw",
   "id": "dd317304-ec65-4856-9049-978f45374b29",
   "metadata": {},
   "source": [
    "4. Write python code to access the first row of the following array?\n",
    "[[1, 2, 3, 4]\n",
    "[5, 6, 7, 8],\n",
    "[9, 10, 11, 12]]"
   ]
  },
  {
   "cell_type": "code",
   "execution_count": 31,
   "id": "0125e483-5672-48f3-bc85-fe22d6bef74a",
   "metadata": {},
   "outputs": [
    {
     "name": "stdout",
     "output_type": "stream",
     "text": [
      "First Row: [1 2 3 4]\n"
     ]
    }
   ],
   "source": [
    "import numpy as np\n",
    "\n",
    "my_array = np.array([[1, 2, 3, 4],\n",
    "                     [5, 6, 7, 8],\n",
    "                     [9, 10, 11, 12]])\n",
    "\n",
    "first_row = my_array[0, :]\n",
    "\n",
    "print(\"First Row:\", first_row)\n"
   ]
  },
  {
   "cell_type": "raw",
   "id": "cf3279bc-90f6-4c20-b01e-1d5d25cd83e7",
   "metadata": {},
   "source": [
    "5. How do you access the element at the third row and fourth column from the given numpy array?\n",
    "[[1, 2, 3, 4]\n",
    "[5, 6, 7, 8],\n",
    "[9, 10, 11, 12]]"
   ]
  },
  {
   "cell_type": "code",
   "execution_count": 32,
   "id": "ce86b5e5-b688-4415-a398-3095411ff823",
   "metadata": {},
   "outputs": [
    {
     "name": "stdout",
     "output_type": "stream",
     "text": [
      "3rd Row & 4th Column: 12\n"
     ]
    }
   ],
   "source": [
    "import numpy as np\n",
    "\n",
    "my_array = np.array([[1, 2, 3, 4],\n",
    "                     [5, 6, 7, 8],\n",
    "                     [9, 10, 11, 12]])\n",
    "\n",
    "row_column = my_array[2, 3]\n",
    "\n",
    "print(\"3rd Row & 4th Column:\", row_column)"
   ]
  },
  {
   "cell_type": "raw",
   "id": "87f62442-9eeb-42df-ab34-b0237cdea63a",
   "metadata": {},
   "source": [
    "6. Write code to extract all odd-indexed elements from the given numpy array?\n",
    "[[1, 2, 3, 4]\n",
    "[5, 6, 7, 8],\n",
    "[9, 10, 11, 12]]"
   ]
  },
  {
   "cell_type": "code",
   "execution_count": 33,
   "id": "01db68ed-73b5-4ceb-a12c-e8b501130367",
   "metadata": {},
   "outputs": [
    {
     "name": "stdout",
     "output_type": "stream",
     "text": [
      "Odd-Indexed Elements:\n",
      "[[ 2  4]\n",
      " [ 6  8]\n",
      " [10 12]]\n"
     ]
    }
   ],
   "source": [
    "import numpy as np\n",
    "\n",
    "my_array = np.array([[1, 2, 3, 4],\n",
    "                     [5, 6, 7, 8],\n",
    "                     [9, 10, 11, 12]])\n",
    "\n",
    "odd_indexed_elements = my_array[:, 1::2]\n",
    "\n",
    "print(\"Odd-Indexed Elements:\")\n",
    "print(odd_indexed_elements)\n"
   ]
  },
  {
   "cell_type": "markdown",
   "id": "ffe79164-0063-40d8-aa86-5d96cd1dfa7a",
   "metadata": {},
   "source": [
    "7. How can you generate a random 3x3 matrix with values between 0 and 1?"
   ]
  },
  {
   "cell_type": "code",
   "execution_count": 34,
   "id": "75bc93f9-00d4-42a7-a028-946d0746d61d",
   "metadata": {},
   "outputs": [
    {
     "name": "stdout",
     "output_type": "stream",
     "text": [
      "Random 3x3 Matrix:\n",
      "[[0.44250002 0.11840755 0.90053573]\n",
      " [0.70085839 0.87748678 0.30385697]\n",
      " [0.23776892 0.34026268 0.17121285]]\n"
     ]
    }
   ],
   "source": [
    "import numpy as np\n",
    "\n",
    "random_matrix = np.random.rand(3, 3)\n",
    "\n",
    "print(\"Random 3x3 Matrix:\")\n",
    "print(random_matrix)\n"
   ]
  },
  {
   "cell_type": "markdown",
   "id": "cc84b5fa-a02f-4d1a-be36-9aebae8a3eba",
   "metadata": {},
   "source": [
    "8. Describe the difference between np.random.rand and np.random.randn?"
   ]
  },
  {
   "cell_type": "markdown",
   "id": "f9c65904-6e0d-4545-a4db-dbfb0250a348",
   "metadata": {},
   "source": [
    "1.  `np.random.rand`: \n",
    "   - This function generates random values from a uniform distribution over the interval [0, 1).\n",
    "   - It takes dimensions as arguments, specifying the shape of the output array.\n",
    "   - For example, `np.random.rand(2, 3)` would generate a 2x3 matrix with values between 0 and 1.\n",
    "\n",
    "   ```python\n",
    "   import numpy as np\n",
    "\n",
    "   random_uniform = np.random.rand(2, 3)\n",
    "   ```\n",
    "\n",
    "2.  `np.random.randn`: \n",
    "   - This function generates random values from a standard normal distribution (mean = 0, standard deviation = 1).\n",
    "   - It also takes dimensions as arguments, specifying the shape of the output array.\n",
    "   - For example, `np.random.randn(2, 3)` would generate a 2x3 matrix with values sampled from a standard normal distribution.\n",
    "\n",
    "   ```python\n",
    "   import numpy as np\n",
    "\n",
    "   random_normal = np.random.randn(2, 3)\n",
    "   ```\n",
    "\n",
    "In summary:\n",
    "- `np.random.rand` generates values from a uniform distribution over [0, 1).\n",
    "- `np.random.randn` generates values from a standard normal distribution.\n",
    "\n",
    "Both functions are useful in different scenarios, depending on the type of random values you need for your application."
   ]
  },
  {
   "cell_type": "raw",
   "id": "bddf5371-0cce-4163-820e-0a397ba301c5",
   "metadata": {},
   "source": [
    "9. Write code to increase the  dimension of the following array?\n",
    "[[1, 2, 3, 4]\n",
    "[5, 6, 7, 8],\n",
    "[9, 10, 11, 12]]\n"
   ]
  },
  {
   "cell_type": "code",
   "execution_count": 35,
   "id": "68f16a9e-6b8b-4154-9e9b-78a848f83b8c",
   "metadata": {},
   "outputs": [
    {
     "name": "stdout",
     "output_type": "stream",
     "text": [
      "Original Array:\n",
      "[[ 1  2  3  4]\n",
      " [ 5  6  7  8]\n",
      " [ 9 10 11 12]]\n",
      "\n",
      "Expanded Array:\n",
      "[[[ 1  2  3  4]\n",
      "  [ 5  6  7  8]\n",
      "  [ 9 10 11 12]]]\n"
     ]
    }
   ],
   "source": [
    "import numpy as np\n",
    "\n",
    "original_array = np.array([[1, 2, 3, 4],\n",
    "                           [5, 6, 7, 8],\n",
    "                           [9, 10, 11, 12]])\n",
    "\n",
    "expanded_array = np.expand_dims(original_array, axis=0)\n",
    "\n",
    "print(\"Original Array:\")\n",
    "print(original_array)\n",
    "\n",
    "print(\"\\nExpanded Array:\")\n",
    "print(expanded_array)\n"
   ]
  },
  {
   "cell_type": "raw",
   "id": "f1eba32a-4d49-44c0-8020-2cfc7b3534c4",
   "metadata": {},
   "source": [
    "10. How to transpose the following array in NumPy?\n",
    "[[1, 2, 3, 4]\n",
    "[5, 6, 7, 8],\n",
    "[9, 10, 11, 12]]"
   ]
  },
  {
   "cell_type": "code",
   "execution_count": 36,
   "id": "6b9c15a7-d735-4937-99de-d8e6962eebbc",
   "metadata": {},
   "outputs": [
    {
     "name": "stdout",
     "output_type": "stream",
     "text": [
      "Original Array:\n",
      "[[ 1  2  3  4]\n",
      " [ 5  6  7  8]\n",
      " [ 9 10 11 12]]\n",
      "\n",
      "Transposed Array:\n",
      "[[ 1  5  9]\n",
      " [ 2  6 10]\n",
      " [ 3  7 11]\n",
      " [ 4  8 12]]\n"
     ]
    }
   ],
   "source": [
    "import numpy as np\n",
    "\n",
    "original_array = np.array([[1, 2, 3, 4],\n",
    "                           [5, 6, 7, 8],\n",
    "                           [9, 10, 11, 12]])\n",
    "\n",
    "transposed_array = original_array.T\n",
    "\n",
    "print(\"Original Array:\")\n",
    "print(original_array)\n",
    "\n",
    "print(\"\\nTransposed Array:\")\n",
    "print(transposed_array)\n"
   ]
  },
  {
   "cell_type": "markdown",
   "id": "804b3850-bac9-4993-a788-a7a6cdd2573c",
   "metadata": {},
   "source": [
    "11. Consider the following matrix:\n",
    "Matrix A2 [[1, 2, 3, 4] [5, 6, 7, 8],[9, 10, 11, 12]]\n",
    "Matrix B2 [[1, 2, 3, 4] [5, 6, 7, 8],[9, 10, 11, 12]]\n",
    "\n",
    "Perform the following operation using Python\n",
    "\n",
    "1.Index Wise Multiplication.\n",
    "2. Matrix multiplication.\n",
    "3. Add both the matrics.\n",
    "4. Subtact matix B from A.\n",
    "5. Divide Matix B by A"
   ]
  },
  {
   "cell_type": "code",
   "execution_count": 37,
   "id": "bd94ec40-1e23-47f7-8db9-e025367c4e92",
   "metadata": {},
   "outputs": [
    {
     "name": "stdout",
     "output_type": "stream",
     "text": [
      "1. Index Wise Multiplication:\n",
      "[[  1   4   9  16]\n",
      " [ 25  36  49  64]\n",
      " [ 81 100 121 144]]\n",
      "\n",
      "2. Matrix Multiplication:\n",
      "[[ 30  70 110]\n",
      " [ 70 174 278]\n",
      " [110 278 446]]\n",
      "\n",
      "3. Matrix Addition:\n",
      "[[ 2  4  6  8]\n",
      " [10 12 14 16]\n",
      " [18 20 22 24]]\n",
      "\n",
      "4. Matrix Subtraction:\n",
      "[[0 0 0 0]\n",
      " [0 0 0 0]\n",
      " [0 0 0 0]]\n",
      "\n",
      "5. Matrix Division:\n",
      "[[1. 1. 1. 1.]\n",
      " [1. 1. 1. 1.]\n",
      " [1. 1. 1. 1.]]\n"
     ]
    }
   ],
   "source": [
    "import numpy as np\n",
    "\n",
    "matrix_A = np.array([[1, 2, 3, 4], [5, 6, 7, 8], [9, 10, 11, 12]])\n",
    "matrix_B = np.array([[1, 2, 3, 4], [5, 6, 7, 8], [9, 10, 11, 12]])\n",
    "\n",
    "# 1. Index Wise Multiplication\n",
    "index_wise_multiplication = matrix_A * matrix_B\n",
    "\n",
    "# 2. Matrix Multiplication\n",
    "matrix_multiplication = np.dot(matrix_A, matrix_B.T)  # Transpose of matrix_B to match dimensions\n",
    "\n",
    "# 3. Add both matrices\n",
    "matrix_addition = matrix_A + matrix_B\n",
    "\n",
    "# 4. Subtract matrix B from A\n",
    "matrix_subtraction = matrix_A - matrix_B\n",
    "\n",
    "# 5. Divide matrix B by A (element-wise division)\n",
    "matrix_division = np.divide(matrix_B, matrix_A)\n",
    "\n",
    "# Display the results\n",
    "print(\"1. Index Wise Multiplication:\")\n",
    "print(index_wise_multiplication)\n",
    "\n",
    "print(\"\\n2. Matrix Multiplication:\")\n",
    "print(matrix_multiplication)\n",
    "\n",
    "print(\"\\n3. Matrix Addition:\")\n",
    "print(matrix_addition)\n",
    "\n",
    "print(\"\\n4. Matrix Subtraction:\")\n",
    "print(matrix_subtraction)\n",
    "\n",
    "print(\"\\n5. Matrix Division:\")\n",
    "print(matrix_division)\n"
   ]
  },
  {
   "cell_type": "markdown",
   "id": "acff9fdc-0e3e-486d-8a3a-85d8b2eb2bfe",
   "metadata": {},
   "source": [
    "12. Which function in Numpy can be used to swap the byte order of an array?"
   ]
  },
  {
   "cell_type": "code",
   "execution_count": 38,
   "id": "8669a16b-0597-442a-b082-5e914345e79c",
   "metadata": {},
   "outputs": [
    {
     "name": "stdout",
     "output_type": "stream",
     "text": [
      "Original Array: [1 2 3 4]\n",
      "Swapped Array: [16777216 33554432 50331648 67108864]\n"
     ]
    }
   ],
   "source": [
    "import numpy as np\n",
    "\n",
    "original_array = np.array([1, 2, 3, 4], dtype=np.int32)\n",
    "\n",
    "swapped_array = original_array.byteswap()\n",
    "\n",
    "print(\"Original Array:\", original_array)\n",
    "print(\"Swapped Array:\", swapped_array)\n",
    "\n"
   ]
  },
  {
   "cell_type": "markdown",
   "id": "7e2cd48b-cdf6-494b-b3a9-aba25da3ca55",
   "metadata": {},
   "source": [
    "13. What is the significance of the np.linalg.inv function?"
   ]
  },
  {
   "cell_type": "markdown",
   "id": "5592e147-58d8-42c6-a647-3eba22120e54",
   "metadata": {},
   "source": [
    "The np.linalg.inv function in NumPy is used to compute the inverse of a matrix. The significance of this function is particularly evident in linear algebra, \n",
    "where finding the inverse of a matrix is essential for solving systems of linear equations and other mathematical operations."
   ]
  },
  {
   "cell_type": "markdown",
   "id": "1a653115-fb1a-477e-a4ff-b483046b6e90",
   "metadata": {},
   "source": [
    "14. What does the np.reshape function do, and how is it used?"
   ]
  },
  {
   "cell_type": "code",
   "execution_count": 39,
   "id": "c63592cf-59ac-4a64-8195-661e19096361",
   "metadata": {},
   "outputs": [
    {
     "name": "stdout",
     "output_type": "stream",
     "text": [
      "Original Array:\n",
      "[1 2 3 4 5 6]\n",
      "\n",
      "Reshaped Array:\n",
      "[[1 2 3]\n",
      " [4 5 6]]\n"
     ]
    }
   ],
   "source": [
    "# The np.reshape function in NumPy is used to change the shape of an array. It returns a new array with the same data but a different shape.\n",
    "\n",
    "import numpy as np\n",
    "\n",
    "original_array = np.array([1, 2, 3, 4, 5, 6])\n",
    "\n",
    "reshaped_array = np.reshape(original_array, (2, 3))\n",
    "\n",
    "print(\"Original Array:\")\n",
    "print(original_array)\n",
    "\n",
    "print(\"\\nReshaped Array:\")\n",
    "print(reshaped_array)\n"
   ]
  },
  {
   "cell_type": "markdown",
   "id": "03be09c9-de18-48d1-819f-61fb32ba6f2c",
   "metadata": {},
   "source": [
    "15. What is broadcasting in Numpy?"
   ]
  },
  {
   "cell_type": "code",
   "execution_count": 40,
   "id": "8ed99d24-2413-4944-ba9b-6ca7e368fa68",
   "metadata": {},
   "outputs": [
    {
     "name": "stdout",
     "output_type": "stream",
     "text": [
      "Array a: [1. 2. 3.]\n",
      "Scalar b: 2.0\n",
      "Result: [2. 4. 6.]\n"
     ]
    }
   ],
   "source": [
    "# Broadcasting in NumPy refers to the ability of universal functions (ufuncs) to operate on arrays of different shapes and sizes. It allows NumPy to perform \n",
    "# element-wise operations on arrays of different shapes without explicitly creating additional copies of the data.\n",
    "\n",
    "\n",
    "import numpy as np\n",
    "\n",
    "a = np.array([1.0, 2.0, 3.0])\n",
    "b = 2.0\n",
    "\n",
    "result = a * b  # The scalar b is broadcast to the shape of a\n",
    "\n",
    "print(\"Array a:\", a)\n",
    "print(\"Scalar b:\", b)\n",
    "print(\"Result:\", result)\n"
   ]
  },
  {
   "cell_type": "code",
   "execution_count": null,
   "id": "cb1da70e-3773-40d0-b2cf-27822adb94a1",
   "metadata": {},
   "outputs": [],
   "source": []
  },
  {
   "cell_type": "code",
   "execution_count": null,
   "id": "92c9f719-eb01-4ba7-8638-a43d43fac534",
   "metadata": {},
   "outputs": [],
   "source": []
  },
  {
   "cell_type": "code",
   "execution_count": null,
   "id": "efd6a245-8b59-4860-993f-55a28479aa7f",
   "metadata": {},
   "outputs": [],
   "source": []
  },
  {
   "cell_type": "code",
   "execution_count": null,
   "id": "be8b1a7a-e7f0-4f86-8904-18ddd2431e14",
   "metadata": {},
   "outputs": [],
   "source": []
  }
 ],
 "metadata": {
  "kernelspec": {
   "display_name": "Python 3 (ipykernel)",
   "language": "python",
   "name": "python3"
  },
  "language_info": {
   "codemirror_mode": {
    "name": "ipython",
    "version": 3
   },
   "file_extension": ".py",
   "mimetype": "text/x-python",
   "name": "python",
   "nbconvert_exporter": "python",
   "pygments_lexer": "ipython3",
   "version": "3.10.8"
  }
 },
 "nbformat": 4,
 "nbformat_minor": 5
}
