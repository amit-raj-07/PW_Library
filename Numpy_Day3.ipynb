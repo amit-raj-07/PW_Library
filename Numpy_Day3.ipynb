{
 "cells": [
  {
   "cell_type": "code",
   "execution_count": 1,
   "id": "160d6bdb-ce00-47fd-b164-860d7fae9c8b",
   "metadata": {},
   "outputs": [],
   "source": [
    "import numpy as np\n",
    "data = np.array([[1],[2],[3]])"
   ]
  },
  {
   "cell_type": "code",
   "execution_count": 2,
   "id": "f8b93cb2-a62f-4ed7-a95b-1fcdb71c80d2",
   "metadata": {},
   "outputs": [
    {
     "data": {
      "text/plain": [
       "2"
      ]
     },
     "execution_count": 2,
     "metadata": {},
     "output_type": "execute_result"
    }
   ],
   "source": [
    "data.ndim"
   ]
  },
  {
   "cell_type": "code",
   "execution_count": 3,
   "id": "ec5373c3-9daa-4c97-bcd1-8cfff36d41a1",
   "metadata": {},
   "outputs": [
    {
     "data": {
      "text/plain": [
       "array([[1],\n",
       "       [2],\n",
       "       [3]])"
      ]
     },
     "execution_count": 3,
     "metadata": {},
     "output_type": "execute_result"
    }
   ],
   "source": [
    "data"
   ]
  },
  {
   "cell_type": "code",
   "execution_count": 7,
   "id": "dc2827eb-2c50-4ab5-b38a-b8f7f9901732",
   "metadata": {},
   "outputs": [],
   "source": [
    "a = np.squeeze(data)  #To reduce dimension of array"
   ]
  },
  {
   "cell_type": "code",
   "execution_count": 8,
   "id": "6528cec4-c6a3-46b3-a760-82937c1fb9d6",
   "metadata": {},
   "outputs": [
    {
     "data": {
      "text/plain": [
       "1"
      ]
     },
     "execution_count": 8,
     "metadata": {},
     "output_type": "execute_result"
    }
   ],
   "source": [
    "a.ndim"
   ]
  },
  {
   "cell_type": "markdown",
   "id": "34138834-ef2e-4224-9b08-6244faef9881",
   "metadata": {},
   "source": [
    "# Repeat"
   ]
  },
  {
   "cell_type": "code",
   "execution_count": 9,
   "id": "ece7709e-2a2b-4ac3-a1af-492a959c1f60",
   "metadata": {},
   "outputs": [
    {
     "data": {
      "text/plain": [
       "array([[1],\n",
       "       [2],\n",
       "       [3]])"
      ]
     },
     "execution_count": 9,
     "metadata": {},
     "output_type": "execute_result"
    }
   ],
   "source": [
    "data"
   ]
  },
  {
   "cell_type": "code",
   "execution_count": 15,
   "id": "fd3fa44c-d65e-42f3-974a-952248cb44ca",
   "metadata": {},
   "outputs": [
    {
     "data": {
      "text/plain": [
       "array([1, 1, 1, 1, 2, 2, 2, 2, 3, 3, 3, 3])"
      ]
     },
     "execution_count": 15,
     "metadata": {},
     "output_type": "execute_result"
    }
   ],
   "source": [
    "np.repeat(data, 4)  # Repeat elements of an array in 1D"
   ]
  },
  {
   "cell_type": "code",
   "execution_count": 16,
   "id": "fbfed32d-445c-4e3f-8d6a-fa2c85a8a766",
   "metadata": {},
   "outputs": [],
   "source": [
    "a = np.array([[1,2], [3,4]])"
   ]
  },
  {
   "cell_type": "code",
   "execution_count": 17,
   "id": "02535de4-0acb-45ff-9fd8-099fb2adf864",
   "metadata": {},
   "outputs": [
    {
     "data": {
      "text/plain": [
       "array([[1, 2],\n",
       "       [3, 4]])"
      ]
     },
     "execution_count": 17,
     "metadata": {},
     "output_type": "execute_result"
    }
   ],
   "source": [
    "a"
   ]
  },
  {
   "cell_type": "code",
   "execution_count": 18,
   "id": "246aab8b-193a-4e9c-a314-6fdc65a69068",
   "metadata": {},
   "outputs": [
    {
     "data": {
      "text/plain": [
       "array([1, 1, 2, 2, 3, 3, 4, 4])"
      ]
     },
     "execution_count": 18,
     "metadata": {},
     "output_type": "execute_result"
    }
   ],
   "source": [
    "np.repeat(a,2)"
   ]
  },
  {
   "cell_type": "code",
   "execution_count": 19,
   "id": "54caf973-f889-4c9d-94ef-bb08a16f46a5",
   "metadata": {},
   "outputs": [
    {
     "data": {
      "text/plain": [
       "array([[1, 1, 2, 2],\n",
       "       [3, 3, 4, 4]])"
      ]
     },
     "execution_count": 19,
     "metadata": {},
     "output_type": "execute_result"
    }
   ],
   "source": [
    "np.repeat(a,2, axis=1)"
   ]
  },
  {
   "cell_type": "code",
   "execution_count": 20,
   "id": "e31bdfb1-e81e-43e9-aa0e-70d4e1c0290a",
   "metadata": {},
   "outputs": [
    {
     "data": {
      "text/plain": [
       "array([[1, 2],\n",
       "       [1, 2],\n",
       "       [3, 4],\n",
       "       [3, 4]])"
      ]
     },
     "execution_count": 20,
     "metadata": {},
     "output_type": "execute_result"
    }
   ],
   "source": [
    "np.repeat(a,2, axis=0)"
   ]
  },
  {
   "cell_type": "code",
   "execution_count": 21,
   "id": "48f8756b-d5cb-4867-936c-ffcac28441e4",
   "metadata": {},
   "outputs": [
    {
     "data": {
      "text/plain": [
       "array([[1],\n",
       "       [2],\n",
       "       [3]])"
      ]
     },
     "execution_count": 21,
     "metadata": {},
     "output_type": "execute_result"
    }
   ],
   "source": [
    "data"
   ]
  },
  {
   "cell_type": "code",
   "execution_count": 22,
   "id": "ee326f7e-9a55-437c-97ff-89d04c2b9aab",
   "metadata": {},
   "outputs": [
    {
     "data": {
      "text/plain": [
       "array([[3],\n",
       "       [1],\n",
       "       [2]])"
      ]
     },
     "execution_count": 22,
     "metadata": {},
     "output_type": "execute_result"
    }
   ],
   "source": [
    "np.roll(data,1)"
   ]
  },
  {
   "cell_type": "code",
   "execution_count": 23,
   "id": "eb4ee0c1-da88-4032-8e65-9e7b07ff8236",
   "metadata": {},
   "outputs": [
    {
     "data": {
      "text/plain": [
       "array([[2],\n",
       "       [3],\n",
       "       [1]])"
      ]
     },
     "execution_count": 23,
     "metadata": {},
     "output_type": "execute_result"
    }
   ],
   "source": [
    "np.roll(data,2)"
   ]
  },
  {
   "cell_type": "code",
   "execution_count": 24,
   "id": "ef201b93-062d-4099-95dc-198c7deb01a5",
   "metadata": {},
   "outputs": [
    {
     "data": {
      "text/plain": [
       "array([[1],\n",
       "       [2],\n",
       "       [3]])"
      ]
     },
     "execution_count": 24,
     "metadata": {},
     "output_type": "execute_result"
    }
   ],
   "source": [
    "np.roll(data,3)"
   ]
  },
  {
   "cell_type": "code",
   "execution_count": 25,
   "id": "56667ae5-fc4f-4c2a-b98f-aa0df78b2b20",
   "metadata": {},
   "outputs": [
    {
     "data": {
      "text/plain": [
       "array([[1, 0, 0, 0],\n",
       "       [0, 2, 0, 0],\n",
       "       [0, 0, 3, 0],\n",
       "       [0, 0, 0, 4]])"
      ]
     },
     "execution_count": 25,
     "metadata": {},
     "output_type": "execute_result"
    }
   ],
   "source": [
    "np.diag(np.array([1,2,3,4]))"
   ]
  },
  {
   "cell_type": "code",
   "execution_count": 28,
   "id": "386acf48-e659-445a-8922-cebdb4010191",
   "metadata": {},
   "outputs": [
    {
     "data": {
      "text/plain": [
       "array([[2],\n",
       "       [3],\n",
       "       [1]])"
      ]
     },
     "execution_count": 28,
     "metadata": {},
     "output_type": "execute_result"
    }
   ],
   "source": [
    "np.roll(data,-1)"
   ]
  },
  {
   "cell_type": "code",
   "execution_count": 32,
   "id": "78cb1dc6-ff50-4221-a788-0fb9458774ec",
   "metadata": {},
   "outputs": [],
   "source": [
    "a = np.array([[[1,2], [3,4], [5,6]]])"
   ]
  },
  {
   "cell_type": "code",
   "execution_count": 33,
   "id": "02e06158-56e4-4691-99f1-4ec8e02c2c9b",
   "metadata": {},
   "outputs": [
    {
     "data": {
      "text/plain": [
       "array([[[1, 2],\n",
       "        [3, 4],\n",
       "        [5, 6]]])"
      ]
     },
     "execution_count": 33,
     "metadata": {},
     "output_type": "execute_result"
    }
   ],
   "source": [
    "a"
   ]
  },
  {
   "cell_type": "code",
   "execution_count": 36,
   "id": "4c2aabf5-4ee1-48c4-9612-a75eb6ad1be0",
   "metadata": {},
   "outputs": [
    {
     "data": {
      "text/plain": [
       "array([[[1, 2],\n",
       "        [3, 4],\n",
       "        [5, 6]]])"
      ]
     },
     "execution_count": 36,
     "metadata": {},
     "output_type": "execute_result"
    }
   ],
   "source": [
    "np.roll(a, 1, axis=0)"
   ]
  },
  {
   "cell_type": "code",
   "execution_count": 37,
   "id": "13ccf614-9295-445b-b09b-6569fd0dcd56",
   "metadata": {},
   "outputs": [
    {
     "data": {
      "text/plain": [
       "array([[[5, 6],\n",
       "        [1, 2],\n",
       "        [3, 4]]])"
      ]
     },
     "execution_count": 37,
     "metadata": {},
     "output_type": "execute_result"
    }
   ],
   "source": [
    "np.roll(a, 1, axis=1)"
   ]
  },
  {
   "cell_type": "markdown",
   "id": "771a52ec-f911-4552-a520-52af383cdc3c",
   "metadata": {},
   "source": [
    "# Binary Operation on array"
   ]
  },
  {
   "cell_type": "code",
   "execution_count": 38,
   "id": "aae1cc80-398f-4bdf-bf2e-e507f106135b",
   "metadata": {},
   "outputs": [
    {
     "data": {
      "text/plain": [
       "array([[1, 0, 0, 0],\n",
       "       [0, 2, 0, 0],\n",
       "       [0, 0, 3, 0],\n",
       "       [0, 0, 0, 4]])"
      ]
     },
     "execution_count": 38,
     "metadata": {},
     "output_type": "execute_result"
    }
   ],
   "source": [
    "np.diag(np.array([1,2,3,4]))"
   ]
  },
  {
   "cell_type": "code",
   "execution_count": 40,
   "id": "87af34bf-7cd6-427b-9873-0bddd29c510d",
   "metadata": {},
   "outputs": [],
   "source": [
    "arr1 = np.random.randint(1,10, (3,4))\n",
    "arr2 = np.random.randint(1,10, (3,4))"
   ]
  },
  {
   "cell_type": "code",
   "execution_count": 41,
   "id": "7fa4e1f5-b0e9-4873-834b-e4d1f08aa8a8",
   "metadata": {},
   "outputs": [
    {
     "data": {
      "text/plain": [
       "array([[4, 9, 8, 3],\n",
       "       [5, 7, 9, 9],\n",
       "       [2, 9, 1, 5]])"
      ]
     },
     "execution_count": 41,
     "metadata": {},
     "output_type": "execute_result"
    }
   ],
   "source": [
    "arr1"
   ]
  },
  {
   "cell_type": "code",
   "execution_count": 42,
   "id": "f0ee2d97-2f02-480a-9f86-a04978f2b35b",
   "metadata": {},
   "outputs": [
    {
     "data": {
      "text/plain": [
       "array([[3, 7, 3, 3],\n",
       "       [6, 4, 2, 7],\n",
       "       [3, 3, 4, 3]])"
      ]
     },
     "execution_count": 42,
     "metadata": {},
     "output_type": "execute_result"
    }
   ],
   "source": [
    "arr2"
   ]
  },
  {
   "cell_type": "code",
   "execution_count": 43,
   "id": "79bfaa1c-b418-4286-b999-3c80d579c0b1",
   "metadata": {},
   "outputs": [
    {
     "data": {
      "text/plain": [
       "array([[ 7, 16, 11,  6],\n",
       "       [11, 11, 11, 16],\n",
       "       [ 5, 12,  5,  8]])"
      ]
     },
     "execution_count": 43,
     "metadata": {},
     "output_type": "execute_result"
    }
   ],
   "source": [
    "arr1 + arr2"
   ]
  },
  {
   "cell_type": "code",
   "execution_count": 44,
   "id": "37ce1d9e-e625-4e22-aa15-24dd3245375c",
   "metadata": {},
   "outputs": [
    {
     "data": {
      "text/plain": [
       "array([[12, 63, 24,  9],\n",
       "       [30, 28, 18, 63],\n",
       "       [ 6, 27,  4, 15]])"
      ]
     },
     "execution_count": 44,
     "metadata": {},
     "output_type": "execute_result"
    }
   ],
   "source": [
    "arr1*arr2"
   ]
  },
  {
   "cell_type": "code",
   "execution_count": 45,
   "id": "17ece759-8b38-447c-8955-71ad2edeb2f9",
   "metadata": {},
   "outputs": [
    {
     "data": {
      "text/plain": [
       "array([[1.33333333, 1.28571429, 2.66666667, 1.        ],\n",
       "       [0.83333333, 1.75      , 4.5       , 1.28571429],\n",
       "       [0.66666667, 3.        , 0.25      , 1.66666667]])"
      ]
     },
     "execution_count": 45,
     "metadata": {},
     "output_type": "execute_result"
    }
   ],
   "source": [
    "arr1/arr2"
   ]
  },
  {
   "cell_type": "code",
   "execution_count": 46,
   "id": "887b06c8-aeb7-4255-a863-854bdd704871",
   "metadata": {},
   "outputs": [
    {
     "data": {
      "text/plain": [
       "array([[ 1,  2,  5,  0],\n",
       "       [-1,  3,  7,  2],\n",
       "       [-1,  6, -3,  2]])"
      ]
     },
     "execution_count": 46,
     "metadata": {},
     "output_type": "execute_result"
    }
   ],
   "source": [
    "arr1-arr2"
   ]
  },
  {
   "cell_type": "code",
   "execution_count": 47,
   "id": "b64300c5-b5d7-4283-b143-919d1313df00",
   "metadata": {},
   "outputs": [
    {
     "data": {
      "text/plain": [
       "array([[     64, 4782969,     512,      27],\n",
       "       [  15625,    2401,      81, 4782969],\n",
       "       [      8,     729,       1,     125]])"
      ]
     },
     "execution_count": 47,
     "metadata": {},
     "output_type": "execute_result"
    }
   ],
   "source": [
    "arr1**arr2"
   ]
  },
  {
   "cell_type": "code",
   "execution_count": 48,
   "id": "19b1ee95-6e98-45b2-ab8e-1b2ee4acddac",
   "metadata": {},
   "outputs": [
    {
     "data": {
      "text/plain": [
       "array([[ True,  True,  True, False],\n",
       "       [False,  True,  True,  True],\n",
       "       [False,  True, False,  True]])"
      ]
     },
     "execution_count": 48,
     "metadata": {},
     "output_type": "execute_result"
    }
   ],
   "source": [
    "arr1 > arr2"
   ]
  },
  {
   "cell_type": "code",
   "execution_count": 49,
   "id": "40aba0d8-b1bd-4ab0-886a-fc801cb40baa",
   "metadata": {},
   "outputs": [
    {
     "data": {
      "text/plain": [
       "array([[ -5, -10,  -9,  -4],\n",
       "       [ -6,  -8, -10, -10],\n",
       "       [ -3, -10,  -2,  -6]])"
      ]
     },
     "execution_count": 49,
     "metadata": {},
     "output_type": "execute_result"
    }
   ],
   "source": [
    "~arr1"
   ]
  },
  {
   "cell_type": "code",
   "execution_count": 50,
   "id": "2b27b088-24dd-42e6-894c-82fa9039972d",
   "metadata": {},
   "outputs": [
    {
     "data": {
      "text/plain": [
       "array([[4, 9, 8, 3],\n",
       "       [5, 7, 9, 9],\n",
       "       [2, 9, 1, 5]])"
      ]
     },
     "execution_count": 50,
     "metadata": {},
     "output_type": "execute_result"
    }
   ],
   "source": [
    "arr1"
   ]
  },
  {
   "cell_type": "markdown",
   "id": "cb17ea58-fd0f-45bc-ad3d-b8321a0a1839",
   "metadata": {},
   "source": [
    "# Numpy string Function"
   ]
  },
  {
   "cell_type": "code",
   "execution_count": 51,
   "id": "88ba31ac-1e70-4cc9-ac60-3f6cc8750b60",
   "metadata": {},
   "outputs": [],
   "source": [
    "arr = np.array([\"PW\", \"Skills\"])"
   ]
  },
  {
   "cell_type": "code",
   "execution_count": 52,
   "id": "3cdd46e1-f151-44ca-9dd5-bbd21dcf7924",
   "metadata": {},
   "outputs": [
    {
     "data": {
      "text/plain": [
       "array(['PW', 'Skills'], dtype='<U6')"
      ]
     },
     "execution_count": 52,
     "metadata": {},
     "output_type": "execute_result"
    }
   ],
   "source": [
    "arr"
   ]
  },
  {
   "cell_type": "code",
   "execution_count": 54,
   "id": "311e68ff-3aa4-4192-a3d8-ac4b23b2c9e4",
   "metadata": {},
   "outputs": [
    {
     "data": {
      "text/plain": [
       "array(['PW', 'SKILLS'], dtype='<U6')"
      ]
     },
     "execution_count": 54,
     "metadata": {},
     "output_type": "execute_result"
    }
   ],
   "source": [
    "np.char.upper(arr)  ##convert in uppercase all letters"
   ]
  },
  {
   "cell_type": "code",
   "execution_count": 55,
   "id": "fa03541d-8ab6-40fc-a0e4-5651cffab554",
   "metadata": {},
   "outputs": [
    {
     "data": {
      "text/plain": [
       "array(['AMIT'], dtype='<U4')"
      ]
     },
     "execution_count": 55,
     "metadata": {},
     "output_type": "execute_result"
    }
   ],
   "source": [
    "np.char.upper(np.array([\"Amit\"]))"
   ]
  },
  {
   "cell_type": "code",
   "execution_count": 57,
   "id": "86d539a4-6f76-407f-b654-742df602dfe0",
   "metadata": {},
   "outputs": [
    {
     "data": {
      "text/plain": [
       "array(['Pw', 'Skills'], dtype='<U6')"
      ]
     },
     "execution_count": 57,
     "metadata": {},
     "output_type": "execute_result"
    }
   ],
   "source": [
    "np.char.capitalize(arr)  ##first letter capital"
   ]
  },
  {
   "cell_type": "code",
   "execution_count": 59,
   "id": "73b0609f-64b9-49aa-acf7-d69cd6413e45",
   "metadata": {},
   "outputs": [
    {
     "data": {
      "text/plain": [
       "array(['Pw', 'Skills'], dtype='<U6')"
      ]
     },
     "execution_count": 59,
     "metadata": {},
     "output_type": "execute_result"
    }
   ],
   "source": [
    "np.char.title(arr)  ##first letter capital"
   ]
  },
  {
   "cell_type": "markdown",
   "id": "190f0c33-36ee-4ee8-a578-6c06cd4a374f",
   "metadata": {},
   "source": [
    "# Mathematical Function"
   ]
  },
  {
   "cell_type": "code",
   "execution_count": 60,
   "id": "540ff9a3-22aa-4ee0-81d2-8fe5cdb0ef07",
   "metadata": {},
   "outputs": [
    {
     "data": {
      "text/plain": [
       "array([[4, 9, 8, 3],\n",
       "       [5, 7, 9, 9],\n",
       "       [2, 9, 1, 5]])"
      ]
     },
     "execution_count": 60,
     "metadata": {},
     "output_type": "execute_result"
    }
   ],
   "source": [
    "arr1"
   ]
  },
  {
   "cell_type": "code",
   "execution_count": 61,
   "id": "cf43edac-ad22-4a68-93aa-ba38e466efb9",
   "metadata": {},
   "outputs": [
    {
     "data": {
      "text/plain": [
       "array([[-0.7568025 ,  0.41211849,  0.98935825,  0.14112001],\n",
       "       [-0.95892427,  0.6569866 ,  0.41211849,  0.41211849],\n",
       "       [ 0.90929743,  0.41211849,  0.84147098, -0.95892427]])"
      ]
     },
     "execution_count": 61,
     "metadata": {},
     "output_type": "execute_result"
    }
   ],
   "source": [
    "np.sin(arr1)"
   ]
  },
  {
   "cell_type": "code",
   "execution_count": 62,
   "id": "ee3476f8-af89-4da1-9e1e-0495e3b6e9b1",
   "metadata": {},
   "outputs": [
    {
     "data": {
      "text/plain": [
       "array([[-0.65364362, -0.91113026, -0.14550003, -0.9899925 ],\n",
       "       [ 0.28366219,  0.75390225, -0.91113026, -0.91113026],\n",
       "       [-0.41614684, -0.91113026,  0.54030231,  0.28366219]])"
      ]
     },
     "execution_count": 62,
     "metadata": {},
     "output_type": "execute_result"
    }
   ],
   "source": [
    "np.cos(arr1)"
   ]
  },
  {
   "cell_type": "code",
   "execution_count": 63,
   "id": "ced299c1-41ed-47cd-9c69-6c60ab5879b1",
   "metadata": {},
   "outputs": [
    {
     "data": {
      "text/plain": [
       "array([[ 1.15782128, -0.45231566, -6.79971146, -0.14254654],\n",
       "       [-3.38051501,  0.87144798, -0.45231566, -0.45231566],\n",
       "       [-2.18503986, -0.45231566,  1.55740772, -3.38051501]])"
      ]
     },
     "execution_count": 63,
     "metadata": {},
     "output_type": "execute_result"
    }
   ],
   "source": [
    "np.tan(arr1)"
   ]
  },
  {
   "cell_type": "code",
   "execution_count": 64,
   "id": "ee371595-d387-423f-86b9-1c60e66fed13",
   "metadata": {},
   "outputs": [
    {
     "data": {
      "text/plain": [
       "array([[0.60205999, 0.95424251, 0.90308999, 0.47712125],\n",
       "       [0.69897   , 0.84509804, 0.95424251, 0.95424251],\n",
       "       [0.30103   , 0.95424251, 0.        , 0.69897   ]])"
      ]
     },
     "execution_count": 64,
     "metadata": {},
     "output_type": "execute_result"
    }
   ],
   "source": [
    "np.log10(arr1)"
   ]
  },
  {
   "cell_type": "code",
   "execution_count": 65,
   "id": "466426e3-5045-474a-9d4d-7dd89546fb42",
   "metadata": {},
   "outputs": [
    {
     "data": {
      "text/plain": [
       "array([[5.45981500e+01, 8.10308393e+03, 2.98095799e+03, 2.00855369e+01],\n",
       "       [1.48413159e+02, 1.09663316e+03, 8.10308393e+03, 8.10308393e+03],\n",
       "       [7.38905610e+00, 8.10308393e+03, 2.71828183e+00, 1.48413159e+02]])"
      ]
     },
     "execution_count": 65,
     "metadata": {},
     "output_type": "execute_result"
    }
   ],
   "source": [
    "np.exp(arr1)"
   ]
  },
  {
   "cell_type": "code",
   "execution_count": 68,
   "id": "fd7b5697-e3f6-4f84-b865-3a46056486db",
   "metadata": {},
   "outputs": [
    {
     "data": {
      "text/plain": [
       "array([[16, 81, 64,  9],\n",
       "       [25, 49, 81, 81],\n",
       "       [ 4, 81,  1, 25]])"
      ]
     },
     "execution_count": 68,
     "metadata": {},
     "output_type": "execute_result"
    }
   ],
   "source": [
    "np.power(arr1,2)"
   ]
  },
  {
   "cell_type": "code",
   "execution_count": 69,
   "id": "8c436a73-0fa9-4870-9cd7-0c4bf3c0a3e0",
   "metadata": {},
   "outputs": [
    {
     "data": {
      "text/plain": [
       "5.916666666666667"
      ]
     },
     "execution_count": 69,
     "metadata": {},
     "output_type": "execute_result"
    }
   ],
   "source": [
    "np.mean(arr1)"
   ]
  },
  {
   "cell_type": "code",
   "execution_count": 70,
   "id": "7293fff4-1466-41f8-b7b8-adfda8e9834f",
   "metadata": {},
   "outputs": [
    {
     "data": {
      "text/plain": [
       "9"
      ]
     },
     "execution_count": 70,
     "metadata": {},
     "output_type": "execute_result"
    }
   ],
   "source": [
    "np.max(arr1)"
   ]
  },
  {
   "cell_type": "code",
   "execution_count": 71,
   "id": "43c70c13-99e5-44fb-9e21-86295071043c",
   "metadata": {},
   "outputs": [
    {
     "data": {
      "text/plain": [
       "2.8418988174966553"
      ]
     },
     "execution_count": 71,
     "metadata": {},
     "output_type": "execute_result"
    }
   ],
   "source": [
    "np.std(arr1)"
   ]
  },
  {
   "cell_type": "code",
   "execution_count": 72,
   "id": "a3dcc4f1-872e-44b6-bed8-f03b4391af40",
   "metadata": {},
   "outputs": [
    {
     "data": {
      "text/plain": [
       "8.076388888888888"
      ]
     },
     "execution_count": 72,
     "metadata": {},
     "output_type": "execute_result"
    }
   ],
   "source": [
    "np.var(arr1)"
   ]
  },
  {
   "cell_type": "code",
   "execution_count": 73,
   "id": "b662b864-5352-4bd3-867f-e93f0d4fe893",
   "metadata": {},
   "outputs": [
    {
     "data": {
      "text/plain": [
       "array([[4, 9, 8, 3],\n",
       "       [5, 7, 9, 9],\n",
       "       [2, 9, 1, 5]])"
      ]
     },
     "execution_count": 73,
     "metadata": {},
     "output_type": "execute_result"
    }
   ],
   "source": [
    "arr1"
   ]
  },
  {
   "cell_type": "code",
   "execution_count": 74,
   "id": "a276a87f-09e7-4ad3-bea3-877efe9ee354",
   "metadata": {},
   "outputs": [
    {
     "data": {
      "text/plain": [
       "array([[3, 7, 3, 3],\n",
       "       [6, 4, 2, 7],\n",
       "       [3, 3, 4, 3]])"
      ]
     },
     "execution_count": 74,
     "metadata": {},
     "output_type": "execute_result"
    }
   ],
   "source": [
    "arr2"
   ]
  },
  {
   "cell_type": "code",
   "execution_count": 75,
   "id": "37bc7cce-516a-4a8c-9316-02a3c46d321d",
   "metadata": {},
   "outputs": [
    {
     "data": {
      "text/plain": [
       "array([[ 1,  2,  5,  0],\n",
       "       [-1,  3,  7,  2],\n",
       "       [-1,  6, -3,  2]])"
      ]
     },
     "execution_count": 75,
     "metadata": {},
     "output_type": "execute_result"
    }
   ],
   "source": [
    "arr1-arr2"
   ]
  },
  {
   "cell_type": "code",
   "execution_count": 76,
   "id": "c62b8802-af53-48d5-a425-0ff306c19929",
   "metadata": {},
   "outputs": [
    {
     "data": {
      "text/plain": [
       "array([[ 1,  2,  5,  0],\n",
       "       [-1,  3,  7,  2],\n",
       "       [-1,  6, -3,  2]])"
      ]
     },
     "execution_count": 76,
     "metadata": {},
     "output_type": "execute_result"
    }
   ],
   "source": [
    "np.subtract(arr1,arr2)"
   ]
  },
  {
   "cell_type": "code",
   "execution_count": 77,
   "id": "a6259a41-2bf5-45ea-acbf-453c359f0d21",
   "metadata": {},
   "outputs": [
    {
     "data": {
      "text/plain": [
       "array([[12, 63, 24,  9],\n",
       "       [30, 28, 18, 63],\n",
       "       [ 6, 27,  4, 15]])"
      ]
     },
     "execution_count": 77,
     "metadata": {},
     "output_type": "execute_result"
    }
   ],
   "source": [
    "arr1*arr2"
   ]
  },
  {
   "cell_type": "code",
   "execution_count": 78,
   "id": "a5807a5a-52e7-4dc7-ae38-7ec2416c17e5",
   "metadata": {},
   "outputs": [
    {
     "data": {
      "text/plain": [
       "array([[12, 63, 24,  9],\n",
       "       [30, 28, 18, 63],\n",
       "       [ 6, 27,  4, 15]])"
      ]
     },
     "execution_count": 78,
     "metadata": {},
     "output_type": "execute_result"
    }
   ],
   "source": [
    "np.multiply(arr1,arr2)"
   ]
  },
  {
   "cell_type": "code",
   "execution_count": 81,
   "id": "4c7fe4bc-ae17-446d-a873-2e9a4018055a",
   "metadata": {},
   "outputs": [
    {
     "data": {
      "text/plain": [
       "array([[1, 2, 2, 0],\n",
       "       [5, 3, 1, 2],\n",
       "       [2, 0, 1, 2]])"
      ]
     },
     "execution_count": 81,
     "metadata": {},
     "output_type": "execute_result"
    }
   ],
   "source": [
    "np.mod(arr1,arr2)  ##return element wise"
   ]
  },
  {
   "cell_type": "code",
   "execution_count": 82,
   "id": "774974b1-5184-43bc-8248-4896b38d842f",
   "metadata": {},
   "outputs": [
    {
     "data": {
      "text/plain": [
       "array([[     64, 4782969,     512,      27],\n",
       "       [  15625,    2401,      81, 4782969],\n",
       "       [      8,     729,       1,     125]])"
      ]
     },
     "execution_count": 82,
     "metadata": {},
     "output_type": "execute_result"
    }
   ],
   "source": [
    "np.power(arr1,arr2)"
   ]
  },
  {
   "cell_type": "code",
   "execution_count": 83,
   "id": "2678438e-79cc-4d02-99dc-86ab43aa2912",
   "metadata": {},
   "outputs": [
    {
     "data": {
      "text/plain": [
       "array([[2.        , 3.        , 2.82842712, 1.73205081],\n",
       "       [2.23606798, 2.64575131, 3.        , 3.        ],\n",
       "       [1.41421356, 3.        , 1.        , 2.23606798]])"
      ]
     },
     "execution_count": 83,
     "metadata": {},
     "output_type": "execute_result"
    }
   ],
   "source": [
    "np.sqrt(arr1)"
   ]
  },
  {
   "cell_type": "markdown",
   "id": "27bcb8a1-a5b8-42cd-ba13-5a36866464b5",
   "metadata": {},
   "source": [
    "## Sort and Search"
   ]
  },
  {
   "cell_type": "code",
   "execution_count": 85,
   "id": "73a012ff-690f-448b-af34-b5c0bf1368ef",
   "metadata": {},
   "outputs": [],
   "source": [
    "arr = np.array([5,6,1,2])"
   ]
  },
  {
   "cell_type": "code",
   "execution_count": 86,
   "id": "f80f14e8-db27-4af0-b294-a983e89c79a6",
   "metadata": {},
   "outputs": [
    {
     "data": {
      "text/plain": [
       "array([5, 6, 1, 2])"
      ]
     },
     "execution_count": 86,
     "metadata": {},
     "output_type": "execute_result"
    }
   ],
   "source": [
    "arr"
   ]
  },
  {
   "cell_type": "code",
   "execution_count": 87,
   "id": "cf2fd486-eced-4cbb-be1a-90a618a6d85e",
   "metadata": {},
   "outputs": [
    {
     "data": {
      "text/plain": [
       "array([1, 2, 5, 6])"
      ]
     },
     "execution_count": 87,
     "metadata": {},
     "output_type": "execute_result"
    }
   ],
   "source": [
    "np.sort(arr)"
   ]
  },
  {
   "cell_type": "code",
   "execution_count": 88,
   "id": "ee493d18-730f-4be3-a0e0-977e893ae632",
   "metadata": {},
   "outputs": [
    {
     "data": {
      "text/plain": [
       "4"
      ]
     },
     "execution_count": 88,
     "metadata": {},
     "output_type": "execute_result"
    }
   ],
   "source": [
    "np.searchsorted(arr,3)"
   ]
  },
  {
   "cell_type": "code",
   "execution_count": 90,
   "id": "54184116-f8bd-4fa7-88f6-b28f91756bf1",
   "metadata": {},
   "outputs": [],
   "source": [
    "arr1 = np.array([0,1,2,3,0,4])"
   ]
  },
  {
   "cell_type": "code",
   "execution_count": 91,
   "id": "1f996928-b1b7-46f4-9e2a-1a49ca00cc5f",
   "metadata": {},
   "outputs": [
    {
     "data": {
      "text/plain": [
       "4"
      ]
     },
     "execution_count": 91,
     "metadata": {},
     "output_type": "execute_result"
    }
   ],
   "source": [
    "np.count_nonzero(arr1)"
   ]
  },
  {
   "cell_type": "code",
   "execution_count": 92,
   "id": "893d3e5e-3ed0-41b0-8874-d2cf8dfcf314",
   "metadata": {},
   "outputs": [
    {
     "data": {
      "text/plain": [
       "array([False,  True,  True,  True, False,  True])"
      ]
     },
     "execution_count": 92,
     "metadata": {},
     "output_type": "execute_result"
    }
   ],
   "source": [
    "arr1 > 0"
   ]
  },
  {
   "cell_type": "code",
   "execution_count": 93,
   "id": "61c6723f-3e11-4946-8eeb-e53f331e211a",
   "metadata": {},
   "outputs": [
    {
     "data": {
      "text/plain": [
       "(array([1, 2, 3, 5]),)"
      ]
     },
     "execution_count": 93,
     "metadata": {},
     "output_type": "execute_result"
    }
   ],
   "source": [
    "np.where(arr1>0)"
   ]
  },
  {
   "cell_type": "code",
   "execution_count": 94,
   "id": "a21583db-ea65-4a65-86fa-7c5f74d4a9d2",
   "metadata": {},
   "outputs": [
    {
     "data": {
      "text/plain": [
       "array([1, 2, 3, 4])"
      ]
     },
     "execution_count": 94,
     "metadata": {},
     "output_type": "execute_result"
    }
   ],
   "source": [
    "np.extract(arr1>0, arr1)"
   ]
  },
  {
   "cell_type": "code",
   "execution_count": 95,
   "id": "f1cd2ec4-a728-46be-a3dd-8efe3b04a6a5",
   "metadata": {},
   "outputs": [],
   "source": [
    "arr = np.array([5,6,1,2,8,9])"
   ]
  },
  {
   "cell_type": "code",
   "execution_count": 96,
   "id": "a5ab7f5b-8eed-4d4c-bec6-106da247eeae",
   "metadata": {},
   "outputs": [
    {
     "data": {
      "text/plain": [
       "array([5, 6, 1, 2, 8, 9])"
      ]
     },
     "execution_count": 96,
     "metadata": {},
     "output_type": "execute_result"
    }
   ],
   "source": [
    "arr"
   ]
  },
  {
   "cell_type": "code",
   "execution_count": 98,
   "id": "8b3b8c29-c3b1-48dd-af35-e82572a00f15",
   "metadata": {},
   "outputs": [
    {
     "data": {
      "text/plain": [
       "array([1, 2, 5, 6, 8, 9])"
      ]
     },
     "execution_count": 98,
     "metadata": {},
     "output_type": "execute_result"
    }
   ],
   "source": [
    "np.sort(arr)"
   ]
  },
  {
   "cell_type": "code",
   "execution_count": 99,
   "id": "0020fe56-eac7-4f23-9b89-34487829ea83",
   "metadata": {},
   "outputs": [
    {
     "data": {
      "text/plain": [
       "4"
      ]
     },
     "execution_count": 99,
     "metadata": {},
     "output_type": "execute_result"
    }
   ],
   "source": [
    "np.searchsorted(arr,7)"
   ]
  },
  {
   "cell_type": "code",
   "execution_count": 100,
   "id": "92307d1d-4cab-48f9-a251-3541402f6b83",
   "metadata": {},
   "outputs": [
    {
     "data": {
      "text/plain": [
       "array([                 0,  72057594037927936, 144115188075855872,\n",
       "       216172782113783808,                  0, 288230376151711744])"
      ]
     },
     "execution_count": 100,
     "metadata": {},
     "output_type": "execute_result"
    }
   ],
   "source": [
    "arr1.byteswap()"
   ]
  },
  {
   "cell_type": "markdown",
   "id": "84bf3e86-4381-4daa-ab2b-6aae29040c3b",
   "metadata": {},
   "source": [
    "## Matrix"
   ]
  },
  {
   "cell_type": "code",
   "execution_count": 101,
   "id": "989bb517-023a-4a64-bf8f-72729c6fc432",
   "metadata": {},
   "outputs": [],
   "source": [
    "#Matrix >> 2D array"
   ]
  },
  {
   "cell_type": "code",
   "execution_count": 102,
   "id": "a0b4b3c2-a875-4eca-915c-66340bf8b0ff",
   "metadata": {},
   "outputs": [],
   "source": [
    "import numpy.matlib as nm"
   ]
  },
  {
   "cell_type": "code",
   "execution_count": 103,
   "id": "9897f9d6-e51c-4005-8581-a7c72d4a4777",
   "metadata": {},
   "outputs": [
    {
     "data": {
      "text/plain": [
       "matrix([[0., 0., 0., 0., 0.]])"
      ]
     },
     "execution_count": 103,
     "metadata": {},
     "output_type": "execute_result"
    }
   ],
   "source": [
    "nm.zeros(5)"
   ]
  },
  {
   "cell_type": "code",
   "execution_count": 105,
   "id": "5279ee3e-6353-4d6c-bccd-4f14c3bdf9c1",
   "metadata": {},
   "outputs": [
    {
     "data": {
      "text/plain": [
       "array([[1., 1., 1., 1.],\n",
       "       [1., 1., 1., 1.],\n",
       "       [1., 1., 1., 1.]])"
      ]
     },
     "execution_count": 105,
     "metadata": {},
     "output_type": "execute_result"
    }
   ],
   "source": [
    "np.ones((3,4))"
   ]
  },
  {
   "cell_type": "code",
   "execution_count": 106,
   "id": "7a04e884-821d-46d5-96f5-db9bd0d0f840",
   "metadata": {},
   "outputs": [],
   "source": [
    "#Numpy linear algebra"
   ]
  },
  {
   "cell_type": "code",
   "execution_count": 107,
   "id": "7566a86b-8f6e-4baa-a148-51b9449f0840",
   "metadata": {},
   "outputs": [],
   "source": [
    "arr1 = np.random.randint(1,10,(3,4))\n",
    "arr2 = np.random.randint(1,10,(3,4))"
   ]
  },
  {
   "cell_type": "code",
   "execution_count": 108,
   "id": "560cd1de-6adc-4449-98b2-877a81b33936",
   "metadata": {},
   "outputs": [
    {
     "data": {
      "text/plain": [
       "array([[9, 9, 9, 7],\n",
       "       [2, 3, 9, 9],\n",
       "       [4, 9, 6, 2]])"
      ]
     },
     "execution_count": 108,
     "metadata": {},
     "output_type": "execute_result"
    }
   ],
   "source": [
    "arr1"
   ]
  },
  {
   "cell_type": "code",
   "execution_count": 109,
   "id": "7917c243-f1cb-41cb-bfd5-814cbf5191ec",
   "metadata": {},
   "outputs": [
    {
     "data": {
      "text/plain": [
       "array([[5, 3, 4, 5],\n",
       "       [4, 3, 7, 8],\n",
       "       [8, 8, 4, 5]])"
      ]
     },
     "execution_count": 109,
     "metadata": {},
     "output_type": "execute_result"
    }
   ],
   "source": [
    "arr2"
   ]
  },
  {
   "cell_type": "code",
   "execution_count": 111,
   "id": "958e8a60-0d26-4399-b633-ee1ac7305cbb",
   "metadata": {},
   "outputs": [],
   "source": [
    "arr1 = np.array([[2,3], [4,5]])\n",
    "arr2 = np.array([[1,3], [4,5]])"
   ]
  },
  {
   "cell_type": "code",
   "execution_count": 112,
   "id": "168ad52f-3b97-44bc-aebe-9751198d0a23",
   "metadata": {},
   "outputs": [
    {
     "data": {
      "text/plain": [
       "array([[14, 21],\n",
       "       [24, 37]])"
      ]
     },
     "execution_count": 112,
     "metadata": {},
     "output_type": "execute_result"
    }
   ],
   "source": [
    "arr1@arr2"
   ]
  },
  {
   "cell_type": "code",
   "execution_count": 113,
   "id": "2fd2c43e-6eff-41a5-aef1-626a76326798",
   "metadata": {},
   "outputs": [],
   "source": [
    "a = np.array([[7,5,-3], [3,-5,2], [5,3,-7]])"
   ]
  },
  {
   "cell_type": "code",
   "execution_count": 114,
   "id": "57641420-c547-4866-aa86-ca4a4e035cce",
   "metadata": {},
   "outputs": [
    {
     "data": {
      "text/plain": [
       "array([[ 7,  5, -3],\n",
       "       [ 3, -5,  2],\n",
       "       [ 5,  3, -7]])"
      ]
     },
     "execution_count": 114,
     "metadata": {},
     "output_type": "execute_result"
    }
   ],
   "source": [
    "a"
   ]
  },
  {
   "cell_type": "code",
   "execution_count": 115,
   "id": "2a860763-8732-454d-b1bd-9f4efd26d4e2",
   "metadata": {},
   "outputs": [],
   "source": [
    "b = np.array([16,-8,0])"
   ]
  },
  {
   "cell_type": "code",
   "execution_count": 116,
   "id": "af576f6a-f443-4303-99aa-a65bb6756e62",
   "metadata": {},
   "outputs": [
    {
     "data": {
      "text/plain": [
       "array([16, -8,  0])"
      ]
     },
     "execution_count": 116,
     "metadata": {},
     "output_type": "execute_result"
    }
   ],
   "source": [
    "b"
   ]
  },
  {
   "cell_type": "code",
   "execution_count": 117,
   "id": "3289cd3d-c41e-4d80-a41a-908ba8aabf34",
   "metadata": {},
   "outputs": [
    {
     "data": {
      "text/plain": [
       "array([1., 3., 2.])"
      ]
     },
     "execution_count": 117,
     "metadata": {},
     "output_type": "execute_result"
    }
   ],
   "source": [
    "np.linalg.solve(a,b)"
   ]
  },
  {
   "cell_type": "code",
   "execution_count": 118,
   "id": "8bc189f4-c7f5-4ca3-99e2-5d997c2e0056",
   "metadata": {},
   "outputs": [
    {
     "data": {
      "text/plain": [
       "array([[2, 3],\n",
       "       [4, 5]])"
      ]
     },
     "execution_count": 118,
     "metadata": {},
     "output_type": "execute_result"
    }
   ],
   "source": [
    "arr1"
   ]
  },
  {
   "cell_type": "code",
   "execution_count": 119,
   "id": "503b90cb-6418-491d-aa32-a739d40ec038",
   "metadata": {},
   "outputs": [
    {
     "data": {
      "text/plain": [
       "-2"
      ]
     },
     "execution_count": 119,
     "metadata": {},
     "output_type": "execute_result"
    }
   ],
   "source": [
    "5*2-3*4"
   ]
  },
  {
   "cell_type": "code",
   "execution_count": 120,
   "id": "e3b26090-48d7-4d5e-96d1-2cd2afd18858",
   "metadata": {},
   "outputs": [
    {
     "data": {
      "text/plain": [
       "-2.0"
      ]
     },
     "execution_count": 120,
     "metadata": {},
     "output_type": "execute_result"
    }
   ],
   "source": [
    "np.linalg.det(arr1)"
   ]
  },
  {
   "cell_type": "code",
   "execution_count": 121,
   "id": "2e1d4f85-e8cf-4ab2-b434-59a71d91c8b1",
   "metadata": {},
   "outputs": [
    {
     "data": {
      "text/plain": [
       "array([[-2.5,  1.5],\n",
       "       [ 2. , -1. ]])"
      ]
     },
     "execution_count": 121,
     "metadata": {},
     "output_type": "execute_result"
    }
   ],
   "source": [
    "np.linalg.inv(arr1)"
   ]
  },
  {
   "cell_type": "code",
   "execution_count": null,
   "id": "10ad6351-3e7b-41ba-a93f-865df82b5293",
   "metadata": {},
   "outputs": [],
   "source": []
  }
 ],
 "metadata": {
  "kernelspec": {
   "display_name": "Python 3 (ipykernel)",
   "language": "python",
   "name": "python3"
  },
  "language_info": {
   "codemirror_mode": {
    "name": "ipython",
    "version": 3
   },
   "file_extension": ".py",
   "mimetype": "text/x-python",
   "name": "python",
   "nbconvert_exporter": "python",
   "pygments_lexer": "ipython3",
   "version": "3.10.8"
  }
 },
 "nbformat": 4,
 "nbformat_minor": 5
}
